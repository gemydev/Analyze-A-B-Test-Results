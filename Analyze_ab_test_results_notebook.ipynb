{
  "cells": [
    {
      "cell_type": "markdown",
      "metadata": {
        "id": "cTJy9ASHuwsp"
      },
      "source": [
        "# Analyze A/B Test Results \n",
        "\n",
        "This project will assure you have mastered the subjects covered in the statistics lessons. We have organized the current notebook into the following sections: \n",
        "\n",
        "- [Introduction](#intro)\n",
        "- [Part I - Probability](#probability)\n",
        "- [Part II - A/B Test](#ab_test)\n",
        "- [Part III - Regression](#regression)\n",
        "- [Final Check](#finalcheck)\n",
        "- [Submission](#submission)\n",
        "\n",
        "Specific programming tasks are marked with a **ToDo** tag. \n",
        "\n",
        "<a id='intro'></a>\n",
        "## Introduction\n",
        "\n",
        "A/B tests are very commonly performed by data analysts and data scientists. For this project, you will be working to understand the results of an A/B test run by an e-commerce website.  Your goal is to work through this notebook to help the company understand if they should:\n",
        "- Implement the new webpage, \n",
        "- Keep the old webpage, or \n",
        "- Perhaps run the experiment longer to make their decision.\n",
        "\n",
        "Each **ToDo** task below has an associated quiz present in the classroom.  Though the classroom quizzes are **not necessary** to complete the project, they help ensure you are on the right track as you work through the project, and you can feel more confident in your final submission meeting the [rubric](https://review.udacity.com/#!/rubrics/1214/view) specification. \n",
        "\n",
        ">**Tip**: Though it's not a mandate, students can attempt the classroom quizzes to ensure statistical numeric values are calculated correctly in many cases.\n",
        "\n",
        "<a id='probability'></a>\n",
        "## Part I - Probability\n",
        "\n",
        "To get started, let's import our libraries."
      ]
    },
    {
      "cell_type": "code",
      "execution_count": 4,
      "metadata": {
        "id": "7nsWpIS6uwsu"
      },
      "outputs": [],
      "source": [
        "import pandas as pd\n",
        "import numpy as np\n",
        "import random\n",
        "import matplotlib.pyplot as plt\n",
        "%matplotlib inline\n",
        "# We are setting the seed to assure you get the same answers on quizzes as we set up\n",
        "random.seed(42)"
      ]
    },
    {
      "cell_type": "markdown",
      "metadata": {
        "id": "br5goA--uwsv"
      },
      "source": [
        "### ToDo 1.1\n",
        "Now, read in the `ab_data.csv` data. Store it in `df`. Below is the description of the data, there are a total of 5 columns:\n",
        "\n",
        "<center>\n",
        "\n",
        "|Data columns|Purpose|Valid values|\n",
        "| ------------- |:-------------| -----:|\n",
        "|user_id|Unique ID|Int64 values|\n",
        "|timestamp|Time stamp when the user visited the webpage|-|\n",
        "|group|In the current A/B experiment, the users are categorized into two broad groups. <br>The `control` group users are expected to be served with `old_page`; and `treatment` group users are matched with the `new_page`. <br>However, **some inaccurate rows** are present in the initial data, such as a `control` group user is matched with a `new_page`. |`['control', 'treatment']`|\n",
        "|landing_page|It denotes whether the user visited the old or new webpage.|`['old_page', 'new_page']`|\n",
        "|converted|It denotes whether the user decided to pay for the company's product. Here, `1` means yes, the user bought the product.|`[0, 1]`|\n",
        "</center>\n",
        "Use your dataframe to answer the questions in Quiz 1 of the classroom.\n",
        "\n",
        "\n",
        ">**Tip**: Please save your work regularly.\n",
        "\n",
        "**a.** Read in the dataset from the `ab_data.csv` file and take a look at the top few rows here:"
      ]
    },
    {
      "cell_type": "code",
      "execution_count": 5,
      "metadata": {
        "colab": {
          "base_uri": "https://localhost:8080/",
          "height": 206
        },
        "id": "pYz6J02suwsw",
        "outputId": "1f252af2-2cee-4448-9a07-3f4de7db1bc0"
      },
      "outputs": [
        {
          "output_type": "execute_result",
          "data": {
            "text/html": [
              "<div>\n",
              "<style scoped>\n",
              "    .dataframe tbody tr th:only-of-type {\n",
              "        vertical-align: middle;\n",
              "    }\n",
              "\n",
              "    .dataframe tbody tr th {\n",
              "        vertical-align: top;\n",
              "    }\n",
              "\n",
              "    .dataframe thead th {\n",
              "        text-align: right;\n",
              "    }\n",
              "</style>\n",
              "<table border=\"1\" class=\"dataframe\">\n",
              "  <thead>\n",
              "    <tr style=\"text-align: right;\">\n",
              "      <th></th>\n",
              "      <th>user_id</th>\n",
              "      <th>timestamp</th>\n",
              "      <th>group</th>\n",
              "      <th>landing_page</th>\n",
              "      <th>converted</th>\n",
              "    </tr>\n",
              "  </thead>\n",
              "  <tbody>\n",
              "    <tr>\n",
              "      <th>0</th>\n",
              "      <td>851104</td>\n",
              "      <td>2017-01-21 22:11:48.556739</td>\n",
              "      <td>control</td>\n",
              "      <td>old_page</td>\n",
              "      <td>0</td>\n",
              "    </tr>\n",
              "    <tr>\n",
              "      <th>1</th>\n",
              "      <td>804228</td>\n",
              "      <td>2017-01-12 08:01:45.159739</td>\n",
              "      <td>control</td>\n",
              "      <td>old_page</td>\n",
              "      <td>0</td>\n",
              "    </tr>\n",
              "    <tr>\n",
              "      <th>2</th>\n",
              "      <td>661590</td>\n",
              "      <td>2017-01-11 16:55:06.154213</td>\n",
              "      <td>treatment</td>\n",
              "      <td>new_page</td>\n",
              "      <td>0</td>\n",
              "    </tr>\n",
              "    <tr>\n",
              "      <th>3</th>\n",
              "      <td>853541</td>\n",
              "      <td>2017-01-08 18:28:03.143765</td>\n",
              "      <td>treatment</td>\n",
              "      <td>new_page</td>\n",
              "      <td>0</td>\n",
              "    </tr>\n",
              "    <tr>\n",
              "      <th>4</th>\n",
              "      <td>864975</td>\n",
              "      <td>2017-01-21 01:52:26.210827</td>\n",
              "      <td>control</td>\n",
              "      <td>old_page</td>\n",
              "      <td>1</td>\n",
              "    </tr>\n",
              "  </tbody>\n",
              "</table>\n",
              "</div>"
            ],
            "text/plain": [
              "   user_id                   timestamp      group landing_page  converted\n",
              "0   851104  2017-01-21 22:11:48.556739    control     old_page          0\n",
              "1   804228  2017-01-12 08:01:45.159739    control     old_page          0\n",
              "2   661590  2017-01-11 16:55:06.154213  treatment     new_page          0\n",
              "3   853541  2017-01-08 18:28:03.143765  treatment     new_page          0\n",
              "4   864975  2017-01-21 01:52:26.210827    control     old_page          1"
            ]
          },
          "metadata": {},
          "execution_count": 5
        }
      ],
      "source": [
        "df = pd.read_csv('ab_data.csv')\n",
        "df.head()"
      ]
    },
    {
      "cell_type": "markdown",
      "metadata": {
        "id": "AZ7zecWEuwsy"
      },
      "source": [
        "**b.** Use the cell below to find the number of rows in the dataset."
      ]
    },
    {
      "cell_type": "code",
      "execution_count": 6,
      "metadata": {
        "colab": {
          "base_uri": "https://localhost:8080/"
        },
        "id": "fR--hVTJuwsy",
        "outputId": "ad66b4ce-ae16-4fe7-c0d3-536c8d8aaeac"
      },
      "outputs": [
        {
          "output_type": "execute_result",
          "data": {
            "text/plain": [
              "294478"
            ]
          },
          "metadata": {},
          "execution_count": 6
        }
      ],
      "source": [
        "len(df)"
      ]
    },
    {
      "cell_type": "markdown",
      "metadata": {
        "id": "3ywm_Jn4uwsz"
      },
      "source": [
        "**294478** rows"
      ]
    },
    {
      "cell_type": "markdown",
      "metadata": {
        "id": "cN9RyzK6uwsz"
      },
      "source": [
        "**c.** The number of unique users in the dataset."
      ]
    },
    {
      "cell_type": "code",
      "execution_count": 7,
      "metadata": {
        "colab": {
          "base_uri": "https://localhost:8080/"
        },
        "id": "Q7tRN2xBuwsz",
        "outputId": "b0e1fd8f-f3a7-4894-b71f-dc79f884dc2a"
      },
      "outputs": [
        {
          "output_type": "execute_result",
          "data": {
            "text/plain": [
              "290584"
            ]
          },
          "metadata": {},
          "execution_count": 7
        }
      ],
      "source": [
        "df.user_id.nunique()"
      ]
    },
    {
      "cell_type": "markdown",
      "metadata": {
        "id": "ujZPj8XEuws0"
      },
      "source": [
        "**290584** unique users"
      ]
    },
    {
      "cell_type": "markdown",
      "metadata": {
        "collapsed": true,
        "id": "C_x2UbEiuws0"
      },
      "source": [
        "**d.** The proportion of users converted."
      ]
    },
    {
      "cell_type": "code",
      "execution_count": 8,
      "metadata": {
        "colab": {
          "base_uri": "https://localhost:8080/"
        },
        "id": "WkbcdsdLuws0",
        "outputId": "4c1c797f-c68e-4ee4-b59c-9296f8040bd6"
      },
      "outputs": [
        {
          "output_type": "execute_result",
          "data": {
            "text/plain": [
              "0.11965919355605512"
            ]
          },
          "metadata": {},
          "execution_count": 8
        }
      ],
      "source": [
        "len(df.query('converted == 1')) / len(df)"
      ]
    },
    {
      "cell_type": "markdown",
      "metadata": {
        "id": "FUJBkRxCuws1"
      },
      "source": [
        "almost **12%**"
      ]
    },
    {
      "cell_type": "markdown",
      "metadata": {
        "collapsed": true,
        "id": "AxnZVvQ-uws1"
      },
      "source": [
        "**e.** The number of times when the \"group\" is `treatment` but \"landing_page\" is not a `new_page`."
      ]
    },
    {
      "cell_type": "code",
      "source": [
        "df.query('group == \"treatment\" & landing_page != \"new_page\"').shape[0]"
      ],
      "metadata": {
        "colab": {
          "base_uri": "https://localhost:8080/"
        },
        "id": "gi2Ay2ukQLZh",
        "outputId": "b8e6ee0f-0c80-4c33-b667-6959fc75d805"
      },
      "execution_count": 9,
      "outputs": [
        {
          "output_type": "execute_result",
          "data": {
            "text/plain": [
              "1965"
            ]
          },
          "metadata": {},
          "execution_count": 9
        }
      ]
    },
    {
      "cell_type": "code",
      "source": [
        "df.groupby(['group', 'landing_page'])['landing_page'].count()"
      ],
      "metadata": {
        "colab": {
          "base_uri": "https://localhost:8080/"
        },
        "id": "bypcxWDZ37Lu",
        "outputId": "669c3eeb-58fc-4e72-bfd3-a4d325835169"
      },
      "execution_count": 53,
      "outputs": [
        {
          "output_type": "execute_result",
          "data": {
            "text/plain": [
              "group      landing_page\n",
              "control    new_page          1928\n",
              "           old_page        145274\n",
              "treatment  new_page        145311\n",
              "           old_page          1965\n",
              "Name: landing_page, dtype: int64"
            ]
          },
          "metadata": {},
          "execution_count": 53
        }
      ]
    },
    {
      "cell_type": "markdown",
      "metadata": {
        "id": "vXRtDdyLuws3"
      },
      "source": [
        "The number of times when the \"group\" is treatment but \"landing_page\" is not a new_page = **1965** + **1928** = **3893**"
      ]
    },
    {
      "cell_type": "markdown",
      "metadata": {
        "id": "iRnl5YgKuws4"
      },
      "source": [
        "**f.** Do any of the rows have missing values?"
      ]
    },
    {
      "cell_type": "code",
      "execution_count": 10,
      "metadata": {
        "scrolled": true,
        "colab": {
          "base_uri": "https://localhost:8080/"
        },
        "id": "3Jfp2Xtiuws4",
        "outputId": "2f5d8423-0a1a-4a79-cfb4-4ee62afac1db"
      },
      "outputs": [
        {
          "output_type": "stream",
          "name": "stdout",
          "text": [
            "<class 'pandas.core.frame.DataFrame'>\n",
            "RangeIndex: 294478 entries, 0 to 294477\n",
            "Data columns (total 5 columns):\n",
            " #   Column        Non-Null Count   Dtype \n",
            "---  ------        --------------   ----- \n",
            " 0   user_id       294478 non-null  int64 \n",
            " 1   timestamp     294478 non-null  object\n",
            " 2   group         294478 non-null  object\n",
            " 3   landing_page  294478 non-null  object\n",
            " 4   converted     294478 non-null  int64 \n",
            "dtypes: int64(2), object(3)\n",
            "memory usage: 11.2+ MB\n"
          ]
        }
      ],
      "source": [
        "df.info()"
      ]
    },
    {
      "cell_type": "markdown",
      "metadata": {
        "id": "7Fx1-EUfuws5"
      },
      "source": [
        "there are **no rows** with missing rows"
      ]
    },
    {
      "cell_type": "markdown",
      "metadata": {
        "id": "eC5mdSaSuws5"
      },
      "source": [
        "### ToDo 1.2  \n",
        "In a particular row, the **group** and **landing_page** columns should have either of the following acceptable values:\n",
        "\n",
        "|user_id| timestamp|group|landing_page|converted|\n",
        "|---|---|---|---|---|\n",
        "|XXXX|XXXX|`control`| `old_page`|X |\n",
        "|XXXX|XXXX|`treatment`|`new_page`|X |\n",
        "\n",
        "\n",
        "It means, the `control` group users should match with `old_page`; and `treatment` group users should matched with the `new_page`. \n",
        "\n",
        "However, for the rows where `treatment` does not match with `new_page` or `control` does not match with `old_page`, we cannot be sure if such rows truly received the new or old wepage.  \n",
        "\n",
        "\n",
        "Use **Quiz 2** in the classroom to figure out how should we handle the rows where the group and landing_page columns don't match?\n",
        "\n",
        "**a.** Now use the answer to the quiz to create a new dataset that meets the specifications from the quiz.  Store your new dataframe in **df2**."
      ]
    },
    {
      "cell_type": "code",
      "execution_count": 54,
      "metadata": {
        "id": "KDRysskKuws5"
      },
      "outputs": [],
      "source": [
        "# Remove the inaccurate rows, and store the result in a new dataframe df2\n",
        "df2 = df.drop(df[((df.group == 'control') & (df.landing_page == 'new_page')) | \n",
        "                 ((df.group == 'treatment') & (df.landing_page == 'old_page'))].index)"
      ]
    },
    {
      "cell_type": "code",
      "execution_count": 55,
      "metadata": {
        "colab": {
          "base_uri": "https://localhost:8080/"
        },
        "id": "zLtk9m51uws5",
        "outputId": "62b9bea3-9f82-4222-843a-7af87b6281ca"
      },
      "outputs": [
        {
          "output_type": "execute_result",
          "data": {
            "text/plain": [
              "(290585, 5)"
            ]
          },
          "metadata": {},
          "execution_count": 55
        }
      ],
      "source": [
        "df2.shape"
      ]
    },
    {
      "cell_type": "code",
      "execution_count": 56,
      "metadata": {
        "colab": {
          "base_uri": "https://localhost:8080/"
        },
        "id": "FrEwdUfvuws6",
        "outputId": "7ba5aced-d374-480b-9264-5a6b52719275"
      },
      "outputs": [
        {
          "output_type": "stream",
          "name": "stdout",
          "text": [
            "<class 'pandas.core.frame.DataFrame'>\n",
            "Int64Index: 290585 entries, 0 to 294477\n",
            "Data columns (total 5 columns):\n",
            " #   Column        Non-Null Count   Dtype \n",
            "---  ------        --------------   ----- \n",
            " 0   user_id       290585 non-null  int64 \n",
            " 1   timestamp     290585 non-null  object\n",
            " 2   group         290585 non-null  object\n",
            " 3   landing_page  290585 non-null  object\n",
            " 4   converted     290585 non-null  int64 \n",
            "dtypes: int64(2), object(3)\n",
            "memory usage: 13.3+ MB\n"
          ]
        }
      ],
      "source": [
        "df2.info()"
      ]
    },
    {
      "cell_type": "code",
      "execution_count": 57,
      "metadata": {
        "colab": {
          "base_uri": "https://localhost:8080/"
        },
        "id": "VLv5Lw-Yuws6",
        "outputId": "cb4b9735-fc4e-4328-9236-600f9eafb0ec"
      },
      "outputs": [
        {
          "output_type": "execute_result",
          "data": {
            "text/plain": [
              "0"
            ]
          },
          "metadata": {},
          "execution_count": 57
        }
      ],
      "source": [
        "# Double Check all of the incorrect rows were removed from df2\n",
        "# Output of the statement below should be 0\n",
        "df2[((df2['group'] == 'treatment') == (df2['landing_page'] == 'new_page')) == False].shape[0]"
      ]
    },
    {
      "cell_type": "markdown",
      "metadata": {
        "id": "cCsGm3qOuws7"
      },
      "source": [
        "### ToDo 1.3  \n",
        "Use **df2** and the cells below to answer questions for **Quiz 3** in the classroom."
      ]
    },
    {
      "cell_type": "markdown",
      "metadata": {
        "id": "1-vFxiK0uws7"
      },
      "source": [
        "**a.** How many unique **user_id**s are in **df2**?"
      ]
    },
    {
      "cell_type": "code",
      "execution_count": 15,
      "metadata": {
        "colab": {
          "base_uri": "https://localhost:8080/"
        },
        "id": "rNaQrZyAuws7",
        "outputId": "d5d999bf-41dc-4bd0-9bbb-1d64ecae227e"
      },
      "outputs": [
        {
          "output_type": "execute_result",
          "data": {
            "text/plain": [
              "290584"
            ]
          },
          "metadata": {},
          "execution_count": 15
        }
      ],
      "source": [
        "df2.user_id.nunique()"
      ]
    },
    {
      "cell_type": "markdown",
      "metadata": {
        "id": "2EZVp4FmuwtA"
      },
      "source": [
        "number of unique user_ids in df2 = **290584** unique users"
      ]
    },
    {
      "cell_type": "markdown",
      "metadata": {
        "collapsed": true,
        "id": "qLxQ-ibtuwtA"
      },
      "source": [
        "**b.** There is one **user_id** repeated in **df2**.  What is it?"
      ]
    },
    {
      "cell_type": "code",
      "execution_count": 16,
      "metadata": {
        "colab": {
          "base_uri": "https://localhost:8080/"
        },
        "id": "zgg2ZI0cuwtB",
        "outputId": "f997805d-6341-4f2e-ab36-765219be10b3"
      },
      "outputs": [
        {
          "output_type": "execute_result",
          "data": {
            "text/plain": [
              "2893    773192\n",
              "Name: user_id, dtype: int64"
            ]
          },
          "metadata": {},
          "execution_count": 16
        }
      ],
      "source": [
        "duplicate_user = df2[df2['user_id'].duplicated()].user_id\n",
        "duplicate_user"
      ]
    },
    {
      "cell_type": "code",
      "execution_count": 17,
      "metadata": {
        "colab": {
          "base_uri": "https://localhost:8080/",
          "height": 0
        },
        "id": "woHGM_3RuwtB",
        "outputId": "39811753-0c65-4980-b112-63b70a6cb753"
      },
      "outputs": [
        {
          "output_type": "execute_result",
          "data": {
            "text/html": [
              "<div>\n",
              "<style scoped>\n",
              "    .dataframe tbody tr th:only-of-type {\n",
              "        vertical-align: middle;\n",
              "    }\n",
              "\n",
              "    .dataframe tbody tr th {\n",
              "        vertical-align: top;\n",
              "    }\n",
              "\n",
              "    .dataframe thead th {\n",
              "        text-align: right;\n",
              "    }\n",
              "</style>\n",
              "<table border=\"1\" class=\"dataframe\">\n",
              "  <thead>\n",
              "    <tr style=\"text-align: right;\">\n",
              "      <th></th>\n",
              "      <th>user_id</th>\n",
              "      <th>timestamp</th>\n",
              "      <th>group</th>\n",
              "      <th>landing_page</th>\n",
              "      <th>converted</th>\n",
              "    </tr>\n",
              "  </thead>\n",
              "  <tbody>\n",
              "    <tr>\n",
              "      <th>2893</th>\n",
              "      <td>773192</td>\n",
              "      <td>2017-01-14 02:55:59.590927</td>\n",
              "      <td>treatment</td>\n",
              "      <td>new_page</td>\n",
              "      <td>0</td>\n",
              "    </tr>\n",
              "  </tbody>\n",
              "</table>\n",
              "</div>"
            ],
            "text/plain": [
              "      user_id                   timestamp      group landing_page  converted\n",
              "2893   773192  2017-01-14 02:55:59.590927  treatment     new_page          0"
            ]
          },
          "metadata": {},
          "execution_count": 17
        }
      ],
      "source": [
        "df2[df2.user_id.duplicated()]"
      ]
    },
    {
      "cell_type": "markdown",
      "metadata": {
        "id": "DKTbREULuwtB"
      },
      "source": [
        "user_id is **773192**"
      ]
    },
    {
      "cell_type": "markdown",
      "metadata": {
        "id": "WGm1ollCuwtB"
      },
      "source": [
        "**c.** Display the rows for the duplicate **user_id**? "
      ]
    },
    {
      "cell_type": "code",
      "execution_count": 18,
      "metadata": {
        "colab": {
          "base_uri": "https://localhost:8080/",
          "height": 0
        },
        "id": "Z5kBwaRhuwtB",
        "outputId": "ea0855b8-f09d-4db9-f034-350a0a0f31d5"
      },
      "outputs": [
        {
          "output_type": "execute_result",
          "data": {
            "text/html": [
              "<div>\n",
              "<style scoped>\n",
              "    .dataframe tbody tr th:only-of-type {\n",
              "        vertical-align: middle;\n",
              "    }\n",
              "\n",
              "    .dataframe tbody tr th {\n",
              "        vertical-align: top;\n",
              "    }\n",
              "\n",
              "    .dataframe thead th {\n",
              "        text-align: right;\n",
              "    }\n",
              "</style>\n",
              "<table border=\"1\" class=\"dataframe\">\n",
              "  <thead>\n",
              "    <tr style=\"text-align: right;\">\n",
              "      <th></th>\n",
              "      <th>user_id</th>\n",
              "      <th>timestamp</th>\n",
              "      <th>group</th>\n",
              "      <th>landing_page</th>\n",
              "      <th>converted</th>\n",
              "    </tr>\n",
              "  </thead>\n",
              "  <tbody>\n",
              "    <tr>\n",
              "      <th>1899</th>\n",
              "      <td>773192</td>\n",
              "      <td>2017-01-09 05:37:58.781806</td>\n",
              "      <td>treatment</td>\n",
              "      <td>new_page</td>\n",
              "      <td>0</td>\n",
              "    </tr>\n",
              "    <tr>\n",
              "      <th>2893</th>\n",
              "      <td>773192</td>\n",
              "      <td>2017-01-14 02:55:59.590927</td>\n",
              "      <td>treatment</td>\n",
              "      <td>new_page</td>\n",
              "      <td>0</td>\n",
              "    </tr>\n",
              "  </tbody>\n",
              "</table>\n",
              "</div>"
            ],
            "text/plain": [
              "      user_id                   timestamp      group landing_page  converted\n",
              "1899   773192  2017-01-09 05:37:58.781806  treatment     new_page          0\n",
              "2893   773192  2017-01-14 02:55:59.590927  treatment     new_page          0"
            ]
          },
          "metadata": {},
          "execution_count": 18
        }
      ],
      "source": [
        "df2[df2['user_id'] == duplicate_user.iloc[0]]"
      ]
    },
    {
      "cell_type": "markdown",
      "metadata": {
        "id": "bpvVp5exuwtC"
      },
      "source": [
        "**d.** Remove **one** of the rows with a duplicate **user_id**, from the **df2** dataframe."
      ]
    },
    {
      "cell_type": "code",
      "execution_count": 19,
      "metadata": {
        "colab": {
          "base_uri": "https://localhost:8080/"
        },
        "id": "aFDi9iZxuwtC",
        "outputId": "c249050e-253b-4322-f5ff-fe084b92baf5"
      },
      "outputs": [
        {
          "output_type": "execute_result",
          "data": {
            "text/plain": [
              "0.0"
            ]
          },
          "metadata": {},
          "execution_count": 19
        }
      ],
      "source": [
        "# Remove one of the rows with a duplicate user_id..\n",
        "# Hint: The dataframe.drop_duplicates() may not work in this case because the rows with duplicate user_id are not entirely identical. \n",
        "df2.drop_duplicates(['user_id'], inplace=True)\n",
        "# Check again if the row with a duplicate user_id is deleted or not\n",
        "df2[df2.user_id.duplicated()].sum().sum()"
      ]
    },
    {
      "cell_type": "markdown",
      "metadata": {
        "id": "sEyiVxXEuwtC"
      },
      "source": [
        "### ToDo 1.4  \n",
        "Use **df2** in the cells below to answer the quiz questions related to **Quiz 4** in the classroom.\n",
        "\n",
        "**a.** What is the probability of an individual converting regardless of the page they receive?<br><br>\n",
        "\n",
        ">**Tip**: The probability  you'll compute represents the overall \"converted\" success rate in the population and you may call it $p_{population}$.\n",
        "\n"
      ]
    },
    {
      "cell_type": "code",
      "execution_count": 20,
      "metadata": {
        "colab": {
          "base_uri": "https://localhost:8080/"
        },
        "id": "ugGqiEOXuwtC",
        "outputId": "2a24b166-c443-4b1b-ffdb-f5402d005057"
      },
      "outputs": [
        {
          "output_type": "execute_result",
          "data": {
            "text/plain": [
              "0.11959708724499628"
            ]
          },
          "metadata": {},
          "execution_count": 20
        }
      ],
      "source": [
        "df2['converted'].sum() / len(df2)"
      ]
    },
    {
      "cell_type": "markdown",
      "metadata": {
        "id": "LbS7Tud5uwtD"
      },
      "source": [
        "the probability of an individual converting regardless of the page they receive is **0.1196**"
      ]
    },
    {
      "cell_type": "markdown",
      "metadata": {
        "id": "9eEtx1u7uwtD"
      },
      "source": [
        "**b.** Given that an individual was in the `control` group, what is the probability they converted?"
      ]
    },
    {
      "cell_type": "code",
      "execution_count": 21,
      "metadata": {
        "colab": {
          "base_uri": "https://localhost:8080/"
        },
        "id": "lMo8sPvquwtD",
        "outputId": "34f95095-ceee-4cdf-df96-2d1af1027f46"
      },
      "outputs": [
        {
          "output_type": "execute_result",
          "data": {
            "text/plain": [
              "0.1203863045004612"
            ]
          },
          "metadata": {},
          "execution_count": 21
        }
      ],
      "source": [
        "control_conversion = df2[df2['group'] == 'control']['converted'].sum() / len(df2[df2['group'] == 'control'])\n",
        "control_conversion"
      ]
    },
    {
      "cell_type": "markdown",
      "source": [
        "the probability is **0.1204**"
      ],
      "metadata": {
        "id": "lkNiCoxmS0cS"
      }
    },
    {
      "cell_type": "markdown",
      "metadata": {
        "id": "WA7pgOeVuwtD"
      },
      "source": [
        "**c.** Given that an individual was in the `treatment` group, what is the probability they converted?"
      ]
    },
    {
      "cell_type": "code",
      "execution_count": 22,
      "metadata": {
        "colab": {
          "base_uri": "https://localhost:8080/"
        },
        "id": "-kOcA52guwtD",
        "outputId": "9f68b3e6-f4a9-400f-eeea-00554420fa6d"
      },
      "outputs": [
        {
          "output_type": "execute_result",
          "data": {
            "text/plain": [
              "0.11880806551510564"
            ]
          },
          "metadata": {},
          "execution_count": 22
        }
      ],
      "source": [
        "treatment_conversion = df2[df2['group'] == 'treatment']['converted'].sum() / len(df2[df2['group'] == 'treatment'])\n",
        "treatment_conversion"
      ]
    },
    {
      "cell_type": "markdown",
      "source": [
        "the probability is **0.119**"
      ],
      "metadata": {
        "id": "CRAiUP-qTHVa"
      }
    },
    {
      "cell_type": "markdown",
      "metadata": {
        "id": "FS6LPEvpuwtE"
      },
      "source": [
        ">**Tip**: The probabilities you've computed in the points (b). and (c). above can also be treated as conversion rate. \n",
        "Calculate the actual difference  (`obs_diff`) between the conversion rates for the two groups. You will need that later.  "
      ]
    },
    {
      "cell_type": "code",
      "execution_count": 23,
      "metadata": {
        "scrolled": true,
        "colab": {
          "base_uri": "https://localhost:8080/"
        },
        "id": "igJ5183XuwtE",
        "outputId": "fc950022-197b-467f-bdf4-27c9e4369754"
      },
      "outputs": [
        {
          "output_type": "execute_result",
          "data": {
            "text/plain": [
              "0.0015782389853555567"
            ]
          },
          "metadata": {},
          "execution_count": 23
        }
      ],
      "source": [
        "# Calculate the actual difference (obs_diff) between the conversion rates for the two groups.\n",
        "obs_diff = control_conversion - treatment_conversion\n",
        "obs_diff"
      ]
    },
    {
      "cell_type": "markdown",
      "metadata": {
        "id": "Byztg_ZxuwtE"
      },
      "source": [
        "actual difference (obs_diff) between the conversion rates for the two groups is **0.0015782389853555567**"
      ]
    },
    {
      "cell_type": "markdown",
      "metadata": {
        "id": "_dFYI1yTuwtE"
      },
      "source": [
        "**d.** What is the probability that an individual received the new page?"
      ]
    },
    {
      "cell_type": "code",
      "execution_count": 24,
      "metadata": {
        "colab": {
          "base_uri": "https://localhost:8080/"
        },
        "id": "2PF_RrixuwtF",
        "outputId": "fbc3c92d-c8f0-4ca5-98cc-d5c30d053076"
      },
      "outputs": [
        {
          "output_type": "execute_result",
          "data": {
            "text/plain": [
              "0.5000619442226688"
            ]
          },
          "metadata": {},
          "execution_count": 24
        }
      ],
      "source": [
        "df2[df2['landing_page'] == 'new_page']['group'].count() / len(df2)"
      ]
    },
    {
      "cell_type": "markdown",
      "metadata": {
        "id": "1-uqgEe7uwtF"
      },
      "source": [
        "the probability that an individual received the new page is **0.5001**"
      ]
    },
    {
      "cell_type": "markdown",
      "metadata": {
        "id": "S1miZk_UuwtF"
      },
      "source": [
        "**e.** Consider your results from parts (a) through (d) above, and explain below whether the new `treatment` group users lead to more conversions."
      ]
    },
    {
      "cell_type": "code",
      "execution_count": 25,
      "metadata": {
        "colab": {
          "base_uri": "https://localhost:8080/"
        },
        "id": "a9-7JZHhuwtF",
        "outputId": "60baff3d-1ea7-465b-f5e8-c1ea7bf66b31"
      },
      "outputs": [
        {
          "output_type": "execute_result",
          "data": {
            "text/plain": [
              "-0.0015782389853555567"
            ]
          },
          "metadata": {},
          "execution_count": 25
        }
      ],
      "source": [
        "obs_diff = treatment_conversion - control_conversion\n",
        "obs_diff"
      ]
    },
    {
      "cell_type": "markdown",
      "metadata": {
        "id": "o6VEuo8juwtG"
      },
      "source": [
        ">No, there is not sufficient evidence to say that the new treatment page leads to more conversions.\n",
        "In our data, the probability of conversion is even slightly lower in the treatment group than in the control group.\n",
        "Probability of individual converting given individual is in control group is 0.1203863045004612. Probability of individual converting given individual is in treatment group is 0.11880724790277405. According to the analysis this is clear that there is no more conversion between new page and old page. As the converting rate is similar in both cases so it is important to consider other factors."
      ]
    },
    {
      "cell_type": "markdown",
      "metadata": {
        "id": "uT882jFjuwtG"
      },
      "source": [
        "<a id='ab_test'></a>\n",
        "## Part II - A/B Test\n",
        "\n",
        "Since a timestamp is associated with each event, you could run a hypothesis test continuously as long as you observe the events. \n",
        "\n",
        "However, then the hard questions would be: \n",
        "- Do you stop as soon as one page is considered significantly better than another or does it need to happen consistently for a certain amount of time?  \n",
        "- How long do you run to render a decision that neither page is better than another?  \n",
        "\n",
        "These questions are the difficult parts associated with A/B tests in general.  \n",
        "\n",
        "\n",
        "### ToDo 2.1\n",
        "For now, consider you need to make the decision just based on all the data provided.  \n",
        "\n",
        "> Recall that you just calculated that the \"converted\" probability (or rate) for the old page is *slightly* higher than that of the new page (ToDo 1.4.c). \n",
        "\n",
        "If you want to assume that the old page is better unless the new page proves to be definitely better at a Type I error rate of 5%, what should be your null and alternative hypotheses (**$H_0$** and **$H_1$**)?  \n",
        "\n",
        "You can state your hypothesis in terms of words or in terms of **$p_{old}$** and **$p_{new}$**, which are the \"converted\" probability (or rate) for the old and new pages respectively."
      ]
    },
    {
      "cell_type": "markdown",
      "metadata": {
        "id": "t27m5yr0uwtG"
      },
      "source": [
        ">**$H_0$** : **$P_{old}$** = **$P_{new}$**<br> \n",
        "**$H_1$** : **$P_{old}$** < **$P_{new}$** <br><br> **OR** <br><br>\n",
        "**$H_0$** : **$P_{new}$** - **$P_{old}$** <= 0 <br> \n",
        "**$H_1$** : **$P_{new}$** - **$P_{old}$** > 0 <br>"
      ]
    },
    {
      "cell_type": "markdown",
      "metadata": {
        "id": "r6Yr8bdhuwtG"
      },
      "source": [
        "### ToDo 2.2 - Null Hypothesis $H_0$ Testing\n",
        "Under the null hypothesis $H_0$, assume that $p_{new}$ and $p_{old}$ are equal. Furthermore, assume that $p_{new}$ and $p_{old}$ both are equal to the **converted** success rate in the `df2` data regardless of the page. So, our assumption is: <br><br>\n",
        "<center>\n",
        "$p_{new}$ = $p_{old}$ = $p_{population}$\n",
        "</center>\n",
        "\n",
        "In this section, you will: \n",
        "\n",
        "- Simulate (bootstrap) sample data set for both groups, and compute the  \"converted\" probability $p$ for those samples. \n",
        "\n",
        "\n",
        "- Use a sample size for each group equal to the ones in the `df2` data.\n",
        "\n",
        "\n",
        "- Compute the difference in the \"converted\" probability for the two samples above. \n",
        "\n",
        "\n",
        "- Perform the sampling distribution for the \"difference in the converted probability\" between the two simulated-samples over 10,000 iterations; and calculate an estimate. \n",
        "\n",
        "\n",
        "\n",
        "Use the cells below to provide the necessary parts of this simulation.  You can use **Quiz 5** in the classroom to make sure you are on the right track."
      ]
    },
    {
      "cell_type": "markdown",
      "metadata": {
        "id": "SDObnUrquwtH"
      },
      "source": [
        "**a.** What is the **conversion rate** for $p_{new}$ under the null hypothesis? "
      ]
    },
    {
      "cell_type": "code",
      "execution_count": 26,
      "metadata": {
        "colab": {
          "base_uri": "https://localhost:8080/"
        },
        "id": "z0kzIipvuwtH",
        "outputId": "7a4b5f7d-41cf-4f2a-d3f8-d419de9b64ad"
      },
      "outputs": [
        {
          "output_type": "execute_result",
          "data": {
            "text/plain": [
              "0.11959708724499628"
            ]
          },
          "metadata": {},
          "execution_count": 26
        }
      ],
      "source": [
        "p_new = df2['converted'].sum() / len(df2)\n",
        "p_new"
      ]
    },
    {
      "cell_type": "markdown",
      "source": [
        "conversion rate = **0.1196**"
      ],
      "metadata": {
        "id": "aEvb9MCaXJG7"
      }
    },
    {
      "cell_type": "markdown",
      "metadata": {
        "id": "xbZRRaX_uwtH"
      },
      "source": [
        "**b.** What is the **conversion rate** for $p_{old}$ under the null hypothesis? "
      ]
    },
    {
      "cell_type": "code",
      "execution_count": 27,
      "metadata": {
        "colab": {
          "base_uri": "https://localhost:8080/"
        },
        "id": "sw4TNKXouwtH",
        "outputId": "f2b6bedf-a4d8-43a9-f89f-1501cc269c68"
      },
      "outputs": [
        {
          "output_type": "execute_result",
          "data": {
            "text/plain": [
              "0.11959708724499628"
            ]
          },
          "metadata": {},
          "execution_count": 27
        }
      ],
      "source": [
        "p_old = df2['converted'].sum() / len(df2)\n",
        "p_old"
      ]
    },
    {
      "cell_type": "markdown",
      "metadata": {
        "id": "O8cHjg5BuwtH"
      },
      "source": [
        "**c.** What is $n_{new}$, the number of individuals in the treatment group? <br><br>\n",
        "*Hint*: The treatment group users are shown the new page."
      ]
    },
    {
      "cell_type": "code",
      "execution_count": 28,
      "metadata": {
        "colab": {
          "base_uri": "https://localhost:8080/"
        },
        "id": "u90lbmiEuwtI",
        "outputId": "d9cda761-bb2b-43ca-9e80-b983c3af3bb0"
      },
      "outputs": [
        {
          "output_type": "execute_result",
          "data": {
            "text/plain": [
              "group      landing_page\n",
              "control    old_page        145274\n",
              "treatment  new_page        145310\n",
              "Name: landing_page, dtype: int64"
            ]
          },
          "metadata": {},
          "execution_count": 28
        }
      ],
      "source": [
        "df2.groupby(['group', 'landing_page'])['landing_page'].count()"
      ]
    },
    {
      "cell_type": "code",
      "execution_count": 29,
      "metadata": {
        "colab": {
          "base_uri": "https://localhost:8080/"
        },
        "id": "HClG4NnRuwtI",
        "outputId": "880111c6-3b31-43e7-832c-e69044cb7aab"
      },
      "outputs": [
        {
          "output_type": "execute_result",
          "data": {
            "text/plain": [
              "145310"
            ]
          },
          "metadata": {},
          "execution_count": 29
        }
      ],
      "source": [
        "n_new = df2[df2['landing_page'] == 'new_page']['landing_page'].count()\n",
        "n_new"
      ]
    },
    {
      "cell_type": "markdown",
      "metadata": {
        "id": "KmKV5fEhuwtI"
      },
      "source": [
        "**d.** What is $n_{old}$, the number of individuals in the control group?"
      ]
    },
    {
      "cell_type": "code",
      "execution_count": 30,
      "metadata": {
        "colab": {
          "base_uri": "https://localhost:8080/"
        },
        "id": "zVmCbTeFuwtI",
        "outputId": "38db03f3-559b-4e14-bfbc-946131b078c4"
      },
      "outputs": [
        {
          "output_type": "execute_result",
          "data": {
            "text/plain": [
              "145274"
            ]
          },
          "metadata": {},
          "execution_count": 30
        }
      ],
      "source": [
        "n_old = df2[df2['landing_page'] == 'old_page']['landing_page'].count()\n",
        "n_old"
      ]
    },
    {
      "cell_type": "markdown",
      "metadata": {
        "id": "R1bQOCeeuwtI"
      },
      "source": [
        "**e. Simulate Sample for the `treatment` Group**<br> \n",
        "Simulate $n_{new}$ transactions with a conversion rate of $p_{new}$ under the null hypothesis.  <br><br>\n",
        "*Hint*: Use `numpy.random.choice()` method to randomly generate $n_{new}$ number of values. <br>\n",
        "Store these $n_{new}$ 1's and 0's in the `new_page_converted` numpy array.\n"
      ]
    },
    {
      "cell_type": "code",
      "execution_count": 31,
      "metadata": {
        "colab": {
          "base_uri": "https://localhost:8080/"
        },
        "id": "uEeyCicUuwtJ",
        "outputId": "c4c3d065-fbeb-4e17-8e84-588a7ffbf4e3"
      },
      "outputs": [
        {
          "output_type": "execute_result",
          "data": {
            "text/plain": [
              "0.1169155598375886"
            ]
          },
          "metadata": {},
          "execution_count": 31
        }
      ],
      "source": [
        "treatment_df = df2.query('group == \"treatment\"')\n",
        "sample_new = treatment_df.sample(n_new, replace=True)\n",
        "new_page_converted = sample_new['converted']\n",
        "new_page_converted.mean()"
      ]
    },
    {
      "cell_type": "markdown",
      "metadata": {
        "id": "gsh-EX6YuwtJ"
      },
      "source": [
        "**f. Simulate Sample for the `control` Group** <br>\n",
        "Simulate $n_{old}$ transactions with a conversion rate of $p_{old}$ under the null hypothesis. <br> Store these $n_{old}$ 1's and 0's in the `old_page_converted` numpy array."
      ]
    },
    {
      "cell_type": "code",
      "execution_count": 32,
      "metadata": {
        "colab": {
          "base_uri": "https://localhost:8080/"
        },
        "id": "8I0x6QbquwtJ",
        "outputId": "4a058344-5fbd-4e2c-ea43-321b32348d78"
      },
      "outputs": [
        {
          "output_type": "execute_result",
          "data": {
            "text/plain": [
              "0.12029681842587112"
            ]
          },
          "metadata": {},
          "execution_count": 32
        }
      ],
      "source": [
        "control_df = df2.query('group == \"control\"')\n",
        "sample_old = control_df.sample(n_old, replace=True)\n",
        "old_page_converted = sample_old['converted']\n",
        "old_page_converted.mean()"
      ]
    },
    {
      "cell_type": "markdown",
      "metadata": {
        "id": "LaSP5KMwuwtJ"
      },
      "source": [
        "**g.** Find the difference in the \"converted\" probability $(p{'}_{new}$ - $p{'}_{old})$ for your simulated samples from the parts (e) and (f) above. "
      ]
    },
    {
      "cell_type": "code",
      "execution_count": 33,
      "metadata": {
        "colab": {
          "base_uri": "https://localhost:8080/"
        },
        "id": "kmuDgaPXuwtJ",
        "outputId": "31621cb9-a6f1-43cb-ba75-101a2446c878"
      },
      "outputs": [
        {
          "output_type": "execute_result",
          "data": {
            "text/plain": [
              "-0.003381258588282518"
            ]
          },
          "metadata": {},
          "execution_count": 33
        }
      ],
      "source": [
        "p_diff_simulate = new_page_converted.mean() - old_page_converted.mean()\n",
        "p_diff_simulate"
      ]
    },
    {
      "cell_type": "markdown",
      "metadata": {
        "id": "vji25wTwuwtJ"
      },
      "source": [
        "\n",
        "**h. Sampling distribution** <br>\n",
        "Re-create `new_page_converted` and `old_page_converted` and find the $(p{'}_{new}$ - $p{'}_{old})$ value 10,000 times using the same simulation process you used in parts (a) through (g) above. \n",
        "\n",
        "<br>\n",
        "Store all  $(p{'}_{new}$ - $p{'}_{old})$  values in a NumPy array called `p_diffs`."
      ]
    },
    {
      "cell_type": "code",
      "execution_count": 34,
      "metadata": {
        "id": "877OP3vVuwtK"
      },
      "outputs": [],
      "source": [
        "control_conv_prob = []\n",
        "treatment_conv_prob = []\n",
        "p_diffs = []"
      ]
    },
    {
      "cell_type": "code",
      "execution_count": 35,
      "metadata": {
        "id": "kq0xXrmuuwtK"
      },
      "outputs": [],
      "source": [
        "# for loops are much slower than numpy functions\n",
        "for _ in range(10000):\n",
        "    sample_old2 = control_df.sample(n_old, replace=True)\n",
        "    sample_new2 = treatment_df.sample(n_new, replace=True)\n",
        "\n",
        "    control_conversion = sample_old2['converted'].sum() / n_old\n",
        "    treatment_conversion = sample_new2['converted'].sum() / n_new\n",
        "    \n",
        "    control_conv_prob.append(control_conversion)\n",
        "    treatment_conv_prob.append(treatment_conversion)\n",
        "    p_diffs.append(treatment_conversion - control_conversion)"
      ]
    },
    {
      "cell_type": "code",
      "source": [
        "p_diffs = np.array(p_diffs)"
      ],
      "metadata": {
        "id": "IHf-HnK0ytTz"
      },
      "execution_count": 36,
      "outputs": []
    },
    {
      "cell_type": "code",
      "source": [
        "p_diffs"
      ],
      "metadata": {
        "colab": {
          "base_uri": "https://localhost:8080/"
        },
        "id": "MWR8Z-3XaXFV",
        "outputId": "8753402e-402d-4906-856e-b02c5ba6d36c"
      },
      "execution_count": 37,
      "outputs": [
        {
          "output_type": "execute_result",
          "data": {
            "text/plain": [
              "array([ 0.00060363, -0.00275515, -0.00172955, ..., -0.00222525,\n",
              "       -0.00205293, -0.00252125])"
            ]
          },
          "metadata": {},
          "execution_count": 37
        }
      ]
    },
    {
      "cell_type": "markdown",
      "metadata": {
        "id": "phnJ6IAtuwtK"
      },
      "source": [
        "**i. Histogram**<br> \n",
        "Plot a histogram of the **p_diffs**.  Does this plot look like what you expected?  Use the matching problem in the classroom to assure you fully understand what was computed here.<br><br>\n",
        "\n",
        "Also, use `plt.axvline()` method to mark the actual difference observed  in the `df2` data (recall `obs_diff`), in the chart.  \n",
        "\n",
        ">**Tip**: Display title, x-label, and y-label in the chart."
      ]
    },
    {
      "cell_type": "code",
      "execution_count": 38,
      "metadata": {
        "scrolled": true,
        "colab": {
          "base_uri": "https://localhost:8080/",
          "height": 313
        },
        "id": "q3OUzNnkuwtK",
        "outputId": "5d76935c-c8cc-470a-d5be-6d5e2861455a"
      },
      "outputs": [
        {
          "output_type": "execute_result",
          "data": {
            "text/plain": [
              "Text(0, 0.5, 'Y axis title')"
            ]
          },
          "metadata": {},
          "execution_count": 38
        },
        {
          "output_type": "display_data",
          "data": {
            "image/png": "[encoded data removed]",
            "text/plain": [
              "<Figure size 432x288 with 1 Axes>"
            ]
          },
          "metadata": {
            "needs_background": "light"
          }
        }
      ],
      "source": [
        "plt.hist(control_conv_prob, alpha=0.5, color='blue')\n",
        "plt.hist(treatment_conv_prob, alpha=0.5, color='green');\n",
        "plt.title(\"control VS treatment\")\n",
        "plt.xlabel('X axis title') \n",
        "plt.ylabel('Y axis title')"
      ]
    },
    {
      "cell_type": "code",
      "execution_count": 39,
      "metadata": {
        "colab": {
          "base_uri": "https://localhost:8080/",
          "height": 313
        },
        "id": "5gxiTSxsuwtK",
        "outputId": "ec95cdff-7316-4b9a-ede5-054d0531ab17"
      },
      "outputs": [
        {
          "output_type": "execute_result",
          "data": {
            "text/plain": [
              "Text(0, 0.5, 'Y axis title')"
            ]
          },
          "metadata": {},
          "execution_count": 39
        },
        {
          "output_type": "display_data",
          "data": {
            "image/png": "[encoded data removed]",
            "text/plain": [
              "<Figure size 432x288 with 1 Axes>"
            ]
          },
          "metadata": {
            "needs_background": "light"
          }
        }
      ],
      "source": [
        "plt.hist(p_diffs);\n",
        "plt.axvline(x=0, color='black');\n",
        "plt.title(\"p_diffs Histogram\")\n",
        "plt.xlabel('X axis title') \n",
        "plt.ylabel('Y axis title')"
      ]
    },
    {
      "cell_type": "code",
      "source": [
        "import scipy.stats as stats"
      ],
      "metadata": {
        "id": "8IfFPuzozdob"
      },
      "execution_count": 40,
      "outputs": []
    },
    {
      "cell_type": "code",
      "execution_count": 41,
      "metadata": {
        "colab": {
          "base_uri": "https://localhost:8080/"
        },
        "id": "Dpc2zjvtuwtL",
        "outputId": "2a81a28d-8e97-449c-abc4-6ed438db77b9"
      },
      "outputs": [
        {
          "output_type": "execute_result",
          "data": {
            "text/plain": [
              "90.46"
            ]
          },
          "metadata": {},
          "execution_count": 41
        }
      ],
      "source": [
        "stats.percentileofscore(p_diffs, 0)"
      ]
    },
    {
      "cell_type": "markdown",
      "source": [
        "There is **90%** probability that the difference is less than 0 and therefore fitting the **$H_0$**"
      ],
      "metadata": {
        "id": "hlo73qFBbx_N"
      }
    },
    {
      "cell_type": "code",
      "execution_count": 42,
      "metadata": {
        "colab": {
          "base_uri": "https://localhost:8080/"
        },
        "id": "ydtqiKysuwtL",
        "outputId": "d700d49f-2cc3-48d4-8690-2371860961e7"
      },
      "outputs": [
        {
          "output_type": "execute_result",
          "data": {
            "text/plain": [
              "0.9046"
            ]
          },
          "metadata": {},
          "execution_count": 42
        }
      ],
      "source": [
        "(p_diffs < 0).mean()"
      ]
    },
    {
      "cell_type": "code",
      "execution_count": 43,
      "metadata": {
        "colab": {
          "base_uri": "https://localhost:8080/",
          "height": 265
        },
        "id": "X3-H5LMSuwtL",
        "outputId": "5b299161-33cc-4059-b6d7-b8853ee2a93a"
      },
      "outputs": [
        {
          "output_type": "display_data",
          "data": {
            "image/png": "[encoded data removed]",
            "text/plain": [
              "<Figure size 432x288 with 1 Axes>"
            ]
          },
          "metadata": {
            "needs_background": "light"
          }
        }
      ],
      "source": [
        "# alternatively, we can simulate the differences under the null, i.e. when the mean difference is 0\n",
        "# now we can look at how likely it is we would observe our observed difference or a more extreme values in favour of H1, \n",
        "# given that the H0 is true, which in our case means difference values higher than the obs_diff\n",
        "null_vals = np.random.normal(0, p_diffs.std(), p_diffs.size)\n",
        "plt.hist(null_vals)\n",
        "plt.axvline(x=obs_diff, color='black');\n",
        "plt.axvline(x=np.percentile(null_vals, 95), color='red');"
      ]
    },
    {
      "cell_type": "markdown",
      "metadata": {
        "id": "0yqXOoC7uwtL"
      },
      "source": [
        "**j.** What proportion of the **p_diffs** are greater than the actual difference observed in the `df2` data?"
      ]
    },
    {
      "cell_type": "code",
      "source": [
        "obs_diff = df2.query('group == \"treatment\"').converted.mean() - df2.query('group == \"control\"').converted.mean()"
      ],
      "metadata": {
        "id": "JqiT_vQC6Tzb"
      },
      "execution_count": 64,
      "outputs": []
    },
    {
      "cell_type": "code",
      "execution_count": 65,
      "metadata": {
        "colab": {
          "base_uri": "https://localhost:8080/"
        },
        "id": "IdIG-wotuwtL",
        "outputId": "87a679a6-bc01-46b4-bef2-6f08f17859c7"
      },
      "outputs": [
        {
          "output_type": "execute_result",
          "data": {
            "text/plain": [
              "0.4909"
            ]
          },
          "metadata": {},
          "execution_count": 65
        }
      ],
      "source": [
        "'''proportion of the p_diffs greater than the actual difference observed is 50%\n",
        " however, if binomial was used to bootstrap, \n",
        " we would have the distribution under the null and then it would be 90%, our p-value '''\n",
        "(p_diffs > obs_diff).mean()"
      ]
    },
    {
      "cell_type": "code",
      "execution_count": 66,
      "metadata": {
        "colab": {
          "base_uri": "https://localhost:8080/"
        },
        "id": "vdmG52JAuwtL",
        "outputId": "4297f77d-e1e3-445c-b758-80e84ac6defc"
      },
      "outputs": [
        {
          "output_type": "execute_result",
          "data": {
            "text/plain": [
              "0.9033"
            ]
          },
          "metadata": {},
          "execution_count": 66
        }
      ],
      "source": [
        "p_value = (null_vals > obs_diff).mean()\n",
        "p_value"
      ]
    },
    {
      "cell_type": "code",
      "execution_count": 67,
      "metadata": {
        "colab": {
          "base_uri": "https://localhost:8080/"
        },
        "id": "C82afGbfuwtM",
        "outputId": "4cc388fb-f85b-4ce3-dbaf-68f8b6d959e5"
      },
      "outputs": [
        {
          "output_type": "execute_result",
          "data": {
            "text/plain": [
              "0.9033"
            ]
          },
          "metadata": {},
          "execution_count": 67
        }
      ],
      "source": [
        "p_value = 1 - stats.percentileofscore(null_vals, obs_diff) / 100\n",
        "p_value"
      ]
    },
    {
      "cell_type": "code",
      "execution_count": 68,
      "metadata": {
        "colab": {
          "base_uri": "https://localhost:8080/"
        },
        "id": "EIOnIBXLuwtM",
        "outputId": "f58e5946-002c-43bb-e04a-3ce232be8e65"
      },
      "outputs": [
        {
          "output_type": "execute_result",
          "data": {
            "text/plain": [
              "0.002054290699898692"
            ]
          },
          "metadata": {},
          "execution_count": 68
        }
      ],
      "source": [
        "np.percentile(null_vals, 95)"
      ]
    },
    {
      "cell_type": "markdown",
      "source": [
        "we would only be able to reject the null if the observed difference was higher than **0.002**\n"
      ],
      "metadata": {
        "id": "2netgTcbcree"
      }
    },
    {
      "cell_type": "markdown",
      "metadata": {
        "id": "KUZtgaSZuwtM"
      },
      "source": [
        "**k.** Please explain in words what you have just computed in part **j** above.  \n",
        " - What is this value called in scientific studies?  \n",
        " - What does this value signify in terms of whether or not there is a difference between the new and old pages? *Hint*: Compare the value above with the \"Type I error rate (0.05)\". "
      ]
    },
    {
      "cell_type": "markdown",
      "metadata": {
        "id": "YnIKtAAwuwtM"
      },
      "source": [
        ">We calculated the **p-value**. The p-value of **0.9** says that given that the null hypothesis is **true**, there is **90%** probability of observing our conversion difference (or one more extreme in favour of the alternative).\n",
        "The null therefore cannot be rejected (with a type I **error rate of 5%** or any other reasonable type I error rate) and we should keep the old page."
      ]
    },
    {
      "cell_type": "markdown",
      "metadata": {
        "id": "HH0AKhXCuwtM"
      },
      "source": [
        "\n",
        "\n",
        "**l. Using Built-in Methods for Hypothesis Testing**<br>\n",
        "We could also use a built-in to achieve similar results.  Though using the built-in might be easier to code, the above portions are a walkthrough of the ideas that are critical to correctly thinking about statistical significance. \n",
        "\n",
        "Fill in the statements below to calculate the:\n",
        "- `convert_old`: number of conversions with the old_page\n",
        "- `convert_new`: number of conversions with the new_page\n",
        "- `n_old`: number of individuals who were shown the old_page\n",
        "- `n_new`: number of individuals who were shown the new_page\n"
      ]
    },
    {
      "cell_type": "code",
      "execution_count": 48,
      "metadata": {
        "id": "cQyIR_-4uwtM",
        "colab": {
          "base_uri": "https://localhost:8080/"
        },
        "outputId": "2832e02c-390a-413d-8fc6-21ac80d1d492"
      },
      "outputs": [
        {
          "output_type": "stream",
          "name": "stderr",
          "text": [
            "/usr/local/lib/python3.7/dist-packages/statsmodels/tools/_testing.py:19: FutureWarning: pandas.util.testing is deprecated. Use the functions in the public API at pandas.testing instead.\n",
            "  import pandas.util.testing as tm\n"
          ]
        }
      ],
      "source": [
        "import statsmodels.api as sm\n",
        "\n",
        "# number of conversions with the old_page\n",
        "convert_old = df2.query('(converted == 1) and (group == \"control\")').count() \n",
        "\n",
        "# number of conversions with the new_page\n",
        "convert_new = df2.query('(converted == 1) and (group == \"treatment\")').count()\n",
        "\n",
        "# number of individuals who were shown the old_page\n",
        "n_old = df2.query('group == \"control\"').count()\n",
        "\n",
        "# number of individuals who received new_page\n",
        "n_new = df2.query('group == \"treatment\"').count()"
      ]
    },
    {
      "cell_type": "markdown",
      "metadata": {
        "id": "XIcVwKm0uwtN"
      },
      "source": [
        "**m.** Now use `sm.stats.proportions_ztest()` to compute your test statistic and p-value.  [Here](https://www.statsmodels.org/stable/generated/statsmodels.stats.proportion.proportions_ztest.html) is a helpful link on using the built in.\n",
        "\n",
        "The syntax is: \n",
        "```bash\n",
        "proportions_ztest(count_array, nobs_array, alternative='larger')\n",
        "```\n",
        "where, \n",
        "- `count_array` = represents the number of \"converted\" for each group\n",
        "- `nobs_array` = represents the total number of observations (rows) in each group\n",
        "- `alternative` = choose one of the values from `[‘two-sided’, ‘smaller’, ‘larger’]` depending upon two-tailed, left-tailed, or right-tailed respectively. \n",
        ">**Hint**: <br>\n",
        "It's a two-tailed if you defined $H_1$ as $(p_{new} = p_{old})$. <br>\n",
        "It's a left-tailed if you defined $H_1$ as $(p_{new} < p_{old})$. <br>\n",
        "It's a right-tailed if you defined $H_1$ as $(p_{new} > p_{old})$. \n",
        "\n",
        "The built-in function above will return the z_score, p_value. \n",
        "\n",
        "---\n",
        "### About the two-sample z-test\n",
        "Recall that you have plotted a distribution `p_diffs` representing the\n",
        "difference in the \"converted\" probability  $(p{'}_{new}-p{'}_{old})$  for your two simulated samples 10,000 times. \n",
        "\n",
        "Another way for comparing the mean of two independent and normal distribution is a **two-sample z-test**. You can perform the Z-test to calculate the Z_score, as shown in the equation below:\n",
        "\n",
        "$$\n",
        "Z_{score} = \\frac{ (p{'}_{new}-p{'}_{old}) - (p_{new}  -  p_{old})}{ \\sqrt{ \\frac{\\sigma^{2}_{new} }{n_{new}} + \\frac{\\sigma^{2}_{old} }{n_{old}}  } }\n",
        "$$\n",
        "\n",
        "where,\n",
        "- $p{'}$ is the \"converted\" success rate in the sample\n",
        "- $p_{new}$ and $p_{old}$ are the \"converted\" success rate for the two groups in the population. \n",
        "- $\\sigma_{new}$ and $\\sigma_{new}$ are the standard deviation for the two groups in the population. \n",
        "- $n_{new}$ and $n_{old}$ represent the size of the two groups or samples (it's same in our case)\n",
        "\n",
        "\n",
        ">Z-test is performed when the sample size is large, and the population variance is known. The z-score represents the distance between the two \"converted\" success rates in terms of the standard error. \n",
        "\n",
        "Next step is to make a decision to reject or fail to reject the null hypothesis based on comparing these two values: \n",
        "- $Z_{score}$\n",
        "- $Z_{\\alpha}$ or $Z_{0.05}$, also known as critical value at 95% confidence interval.  $Z_{0.05}$ is 1.645 for one-tailed tests,  and 1.960 for two-tailed test. You can determine the $Z_{\\alpha}$ from the z-table manually. \n",
        "\n",
        "Decide if your hypothesis is either a two-tailed, left-tailed, or right-tailed test. Accordingly, reject OR fail to reject the  null based on the comparison between $Z_{score}$ and $Z_{\\alpha}$. \n",
        ">Hint:<br>\n",
        "For a right-tailed test, reject null if $Z_{score}$ > $Z_{\\alpha}$. <br>\n",
        "For a left-tailed test, reject null if $Z_{score}$ < $Z_{\\alpha}$. \n",
        "\n",
        "\n",
        "In other words, we determine whether or not the $Z_{score}$ lies in the \"rejection region\" in the distribution. A \"rejection region\" is an interval where the null hypothesis is rejected iff the $Z_{score}$ lies in that region.\n",
        "\n",
        "\n",
        "\n",
        "Reference: \n",
        "- Example 9.1.2 on this [page](https://stats.libretexts.org/Bookshelves/Introductory_Statistics/Book%3A_Introductory_Statistics_(Shafer_and_Zhang)/09%3A_Two-Sample_Problems/9.01%3A_Comparison_of_Two_Population_Means-_Large_Independent_Samples), courtesy www.stats.libretexts.org\n",
        "\n",
        "---\n",
        "\n",
        ">**Tip**: You don't have to dive deeper into z-test for this exercise. **Try having an overview of what does z-score signify in general.** "
      ]
    },
    {
      "cell_type": "code",
      "execution_count": 49,
      "metadata": {
        "colab": {
          "base_uri": "https://localhost:8080/"
        },
        "id": "au7xNc8wuwtS",
        "outputId": "48cb5fd3-45db-4bee-ca99-f63e03a20c43"
      },
      "outputs": [
        {
          "output_type": "stream",
          "name": "stdout",
          "text": [
            "-1.3109241984234394 \n",
            " 0.9050583127590245\n"
          ]
        }
      ],
      "source": [
        "import statsmodels.api as sm\n",
        "counts = [convert_new.iloc[0], convert_old.iloc[0]]\n",
        "nobs = [n_new.iloc[0], n_old.iloc[0]]\n",
        "# ToDo: Complete the sm.stats.proportions_ztest() method arguments\n",
        "z_score, p_value = sm.stats.proportions_ztest(counts,nobs,alternative= 'larger')\n",
        "print(z_score,'\\n', p_value)"
      ]
    },
    {
      "cell_type": "markdown",
      "metadata": {
        "id": "_JxD4hCnuwtT"
      },
      "source": [
        "**n.** What do the z-score and p-value you computed in the previous question mean for the conversion rates of the old and new pages?  Do they agree with the findings in parts **j.** and **k.**?<br><br>\n",
        "\n",
        ">**Tip**: Notice whether the p-value is similar to the one computed earlier. Accordingly, can you reject/fail to reject the null hypothesis? It is important to correctly interpret the test statistic and p-value."
      ]
    },
    {
      "cell_type": "markdown",
      "metadata": {
        "id": "OYETXsjquwtT"
      },
      "source": [
        ">With **significance level equal to 5%** and **p-value > significance level**, we could say that we couldn't reject the null hypothesis which means with significance level equal to **5%**, we couldn't find sufficient evidence to support that **new page has conversion rate greater than the old page**\n",
        "And **YES** the **z-test result is similar to what we got using the bootstrapping approach**"
      ]
    },
    {
      "cell_type": "markdown",
      "metadata": {
        "id": "9JGjY8TLuwtT"
      },
      "source": [
        "<a id='regression'></a>\n",
        "### Part III - A regression approach\n",
        "\n",
        "### ToDo 3.1 \n",
        "In this final part, you will see that the result you achieved in the A/B test in Part II above can also be achieved by performing regression.<br><br> \n",
        "\n",
        "**a.** Since each row in the `df2` data is either a conversion or no conversion, what type of regression should you be performing in this case?"
      ]
    },
    {
      "cell_type": "markdown",
      "metadata": {
        "id": "LN_OIOERuwtT"
      },
      "source": [
        ">**Logistic regression**"
      ]
    },
    {
      "cell_type": "markdown",
      "metadata": {
        "id": "ZY2u2uZpuwtU"
      },
      "source": [
        "**b.** The goal is to use **statsmodels** library to fit the regression model you specified in part **a.** above to see if there is a significant difference in conversion based on the page-type a customer receives. However, you first need to create the following two columns in the `df2` dataframe:\n",
        " 1. `intercept` - It should be `1` in the entire column. \n",
        " 2. `ab_page` - It's a dummy variable column, having a value `1` when an individual receives the **treatment**, otherwise `0`.  "
      ]
    },
    {
      "cell_type": "code",
      "execution_count": 77,
      "metadata": {
        "colab": {
          "base_uri": "https://localhost:8080/",
          "height": 206
        },
        "id": "eppAbQNNuwtU",
        "outputId": "326a354c-3009-4e29-f355-eca8be50e408"
      },
      "outputs": [
        {
          "output_type": "execute_result",
          "data": {
            "text/html": [
              "<div>\n",
              "<style scoped>\n",
              "    .dataframe tbody tr th:only-of-type {\n",
              "        vertical-align: middle;\n",
              "    }\n",
              "\n",
              "    .dataframe tbody tr th {\n",
              "        vertical-align: top;\n",
              "    }\n",
              "\n",
              "    .dataframe thead th {\n",
              "        text-align: right;\n",
              "    }\n",
              "</style>\n",
              "<table border=\"1\" class=\"dataframe\">\n",
              "  <thead>\n",
              "    <tr style=\"text-align: right;\">\n",
              "      <th></th>\n",
              "      <th>user_id</th>\n",
              "      <th>timestamp</th>\n",
              "      <th>group</th>\n",
              "      <th>landing_page</th>\n",
              "      <th>converted</th>\n",
              "      <th>intercept</th>\n",
              "      <th>ab_page</th>\n",
              "    </tr>\n",
              "  </thead>\n",
              "  <tbody>\n",
              "    <tr>\n",
              "      <th>0</th>\n",
              "      <td>851104</td>\n",
              "      <td>2017-01-21 22:11:48.556739</td>\n",
              "      <td>control</td>\n",
              "      <td>old_page</td>\n",
              "      <td>0</td>\n",
              "      <td>1</td>\n",
              "      <td>0</td>\n",
              "    </tr>\n",
              "    <tr>\n",
              "      <th>1</th>\n",
              "      <td>804228</td>\n",
              "      <td>2017-01-12 08:01:45.159739</td>\n",
              "      <td>control</td>\n",
              "      <td>old_page</td>\n",
              "      <td>0</td>\n",
              "      <td>1</td>\n",
              "      <td>0</td>\n",
              "    </tr>\n",
              "    <tr>\n",
              "      <th>2</th>\n",
              "      <td>661590</td>\n",
              "      <td>2017-01-11 16:55:06.154213</td>\n",
              "      <td>treatment</td>\n",
              "      <td>new_page</td>\n",
              "      <td>0</td>\n",
              "      <td>1</td>\n",
              "      <td>1</td>\n",
              "    </tr>\n",
              "    <tr>\n",
              "      <th>3</th>\n",
              "      <td>853541</td>\n",
              "      <td>2017-01-08 18:28:03.143765</td>\n",
              "      <td>treatment</td>\n",
              "      <td>new_page</td>\n",
              "      <td>0</td>\n",
              "      <td>1</td>\n",
              "      <td>1</td>\n",
              "    </tr>\n",
              "    <tr>\n",
              "      <th>4</th>\n",
              "      <td>864975</td>\n",
              "      <td>2017-01-21 01:52:26.210827</td>\n",
              "      <td>control</td>\n",
              "      <td>old_page</td>\n",
              "      <td>1</td>\n",
              "      <td>1</td>\n",
              "      <td>0</td>\n",
              "    </tr>\n",
              "  </tbody>\n",
              "</table>\n",
              "</div>"
            ],
            "text/plain": [
              "   user_id                   timestamp  ... intercept ab_page\n",
              "0   851104  2017-01-21 22:11:48.556739  ...         1       0\n",
              "1   804228  2017-01-12 08:01:45.159739  ...         1       0\n",
              "2   661590  2017-01-11 16:55:06.154213  ...         1       1\n",
              "3   853541  2017-01-08 18:28:03.143765  ...         1       1\n",
              "4   864975  2017-01-21 01:52:26.210827  ...         1       0\n",
              "\n",
              "[5 rows x 7 columns]"
            ]
          },
          "metadata": {},
          "execution_count": 77
        }
      ],
      "source": [
        "df2['intercept'] = 1\n",
        "df2['ab_page'] = df2.group.apply(lambda x:1 if x==\"treatment\" else 0)\n",
        "df2.head()"
      ]
    },
    {
      "cell_type": "markdown",
      "metadata": {
        "id": "pmq-7joQuwtU"
      },
      "source": [
        "**c.** Use **statsmodels** to instantiate your regression model on the two columns you created in part (b). above, then fit the model to predict whether or not an individual converts. \n"
      ]
    },
    {
      "cell_type": "code",
      "execution_count": 78,
      "metadata": {
        "colab": {
          "base_uri": "https://localhost:8080/"
        },
        "id": "bHL0dvpuuwtU",
        "outputId": "ecb9d154-2ee5-4346-a441-94e212ac4181"
      },
      "outputs": [
        {
          "output_type": "stream",
          "name": "stdout",
          "text": [
            "Optimization terminated successfully.\n",
            "         Current function value: 0.366118\n",
            "         Iterations 6\n"
          ]
        }
      ],
      "source": [
        "model = sm.Logit(df2['converted'],df2[['intercept','ab_page']])\n",
        "result = model.fit()"
      ]
    },
    {
      "cell_type": "markdown",
      "metadata": {
        "id": "k7NjG9AquwtU"
      },
      "source": [
        "**d.** Provide the summary of your model below, and use it as necessary to answer the following questions."
      ]
    },
    {
      "cell_type": "code",
      "source": [
        "result.summary()"
      ],
      "metadata": {
        "colab": {
          "base_uri": "https://localhost:8080/",
          "height": 247
        },
        "id": "B_gMm0k9-LGQ",
        "outputId": "117c7fd0-7e8f-4efe-ee0b-d598e34c98b5"
      },
      "execution_count": 79,
      "outputs": [
        {
          "output_type": "execute_result",
          "data": {
            "text/html": [
              "<table class=\"simpletable\">\n",
              "<caption>Logit Regression Results</caption>\n",
              "<tr>\n",
              "  <th>Dep. Variable:</th>       <td>converted</td>    <th>  No. Observations:  </th>   <td>290585</td>   \n",
              "</tr>\n",
              "<tr>\n",
              "  <th>Model:</th>                 <td>Logit</td>      <th>  Df Residuals:      </th>   <td>290583</td>   \n",
              "</tr>\n",
              "<tr>\n",
              "  <th>Method:</th>                 <td>MLE</td>       <th>  Df Model:          </th>   <td>     1</td>   \n",
              "</tr>\n",
              "<tr>\n",
              "  <th>Date:</th>            <td>Tue, 14 Dec 2021</td> <th>  Pseudo R-squ.:     </th>  <td>8.085e-06</td> \n",
              "</tr>\n",
              "<tr>\n",
              "  <th>Time:</th>                <td>17:15:35</td>     <th>  Log-Likelihood:    </th> <td>-1.0639e+05</td>\n",
              "</tr>\n",
              "<tr>\n",
              "  <th>converged:</th>             <td>True</td>       <th>  LL-Null:           </th> <td>-1.0639e+05</td>\n",
              "</tr>\n",
              "<tr>\n",
              "  <th>Covariance Type:</th>     <td>nonrobust</td>    <th>  LLR p-value:       </th>   <td>0.1897</td>   \n",
              "</tr>\n",
              "</table>\n",
              "<table class=\"simpletable\">\n",
              "<tr>\n",
              "      <td></td>         <th>coef</th>     <th>std err</th>      <th>z</th>      <th>P>|z|</th>  <th>[0.025</th>    <th>0.975]</th>  \n",
              "</tr>\n",
              "<tr>\n",
              "  <th>intercept</th> <td>   -1.9888</td> <td>    0.008</td> <td> -246.669</td> <td> 0.000</td> <td>   -2.005</td> <td>   -1.973</td>\n",
              "</tr>\n",
              "<tr>\n",
              "  <th>ab_page</th>   <td>   -0.0150</td> <td>    0.011</td> <td>   -1.312</td> <td> 0.190</td> <td>   -0.037</td> <td>    0.007</td>\n",
              "</tr>\n",
              "</table>"
            ],
            "text/plain": [
              "<class 'statsmodels.iolib.summary.Summary'>\n",
              "\"\"\"\n",
              "                           Logit Regression Results                           \n",
              "==============================================================================\n",
              "Dep. Variable:              converted   No. Observations:               290585\n",
              "Model:                          Logit   Df Residuals:                   290583\n",
              "Method:                           MLE   Df Model:                            1\n",
              "Date:                Tue, 14 Dec 2021   Pseudo R-squ.:               8.085e-06\n",
              "Time:                        17:15:35   Log-Likelihood:            -1.0639e+05\n",
              "converged:                       True   LL-Null:                   -1.0639e+05\n",
              "Covariance Type:            nonrobust   LLR p-value:                    0.1897\n",
              "==============================================================================\n",
              "                 coef    std err          z      P>|z|      [0.025      0.975]\n",
              "------------------------------------------------------------------------------\n",
              "intercept     -1.9888      0.008   -246.669      0.000      -2.005      -1.973\n",
              "ab_page       -0.0150      0.011     -1.312      0.190      -0.037       0.007\n",
              "==============================================================================\n",
              "\"\"\""
            ]
          },
          "metadata": {},
          "execution_count": 79
        }
      ]
    },
    {
      "cell_type": "markdown",
      "metadata": {
        "id": "3QuWkLcuuwtU"
      },
      "source": [
        "**e.** What is the p-value associated with **ab_page**? Why does it differ from the value you found in **Part II**?<br><br>  \n",
        "\n",
        "**Hints**: \n",
        "- What are the null and alternative hypotheses associated with your regression model, and how do they compare to the null and alternative hypotheses in **Part II**? \n",
        "- You may comment on if these hypothesis (Part II vs. Part III) are one-sided or two-sided. \n",
        "- You may also compare the current p-value with the Type I error rate (0.05).\n"
      ]
    },
    {
      "cell_type": "markdown",
      "metadata": {
        "id": "AHGgJeUsuwtV"
      },
      "source": [
        ">The **p-value** associated with **ab_page** equal to **0.190** and it differ because the hypothesis are different.\n",
        "<br>The main null hypothesis of a multiple logistic regression is that there is no relationship between the X variables and the Y variable <br>\n",
        "in other words: <br>\n",
        "**$H_0$ : coefficient for each variable in X = 0** <br>\n",
        "**$H_A$ : coefficient for each variable in X != 0** <br>\n",
        "but in Part II the hypothesis was <br>\n",
        "**$H_0$ : $p_{new}$ <= $p_{old}$** <br>\n",
        "**$H_A$ : $p_{new}$ > $p_{old}$**"
      ]
    },
    {
      "cell_type": "markdown",
      "metadata": {
        "id": "sx1pfizpuwtV"
      },
      "source": [
        "**f.** Now, you are considering other things that might influence whether or not an individual converts.  Discuss why it is a good idea to consider other factors to add into your regression model.  Are there any disadvantages to adding additional terms into your regression model?"
      ]
    },
    {
      "cell_type": "markdown",
      "metadata": {
        "id": "4Kp7mliIuwtV"
      },
      "source": [
        ">Adding new features or variables to the model is a **good** thing as long as it extends the model exploratory capabilities, metrics like Pseudo-R-squared and Log-Likelihood Ratio can help us in the diagnostics of a given logistic regression model"
      ]
    },
    {
      "cell_type": "markdown",
      "metadata": {
        "id": "RErvPKI5uwtV"
      },
      "source": [
        "**g. Adding countries**<br> \n",
        "Now along with testing if the conversion rate changes for different pages, also add an effect based on which country a user lives in. \n",
        "\n",
        "1. You will need to read in the **countries.csv** dataset and merge together your `df2` datasets on the appropriate rows. You call the resulting dataframe `df_merged`. [Here](https://pandas.pydata.org/pandas-docs/stable/reference/api/pandas.DataFrame.join.html) are the docs for joining tables. \n",
        "\n",
        "2. Does it appear that country had an impact on conversion?  To answer this question, consider the three unique values, `['UK', 'US', 'CA']`, in the `country` column. Create dummy variables for these country columns. \n",
        ">**Hint:** Use `pandas.get_dummies()` to create dummy variables. **You will utilize two columns for the three dummy variables.** \n",
        "\n",
        " Provide the statistical output as well as a written response to answer this question."
      ]
    },
    {
      "cell_type": "code",
      "execution_count": 70,
      "metadata": {
        "colab": {
          "base_uri": "https://localhost:8080/",
          "height": 206
        },
        "id": "wwSU4-BfuwtV",
        "outputId": "8f80009a-24a5-4f69-e092-7ecbb3e52237"
      },
      "outputs": [
        {
          "output_type": "execute_result",
          "data": {
            "text/html": [
              "<div>\n",
              "<style scoped>\n",
              "    .dataframe tbody tr th:only-of-type {\n",
              "        vertical-align: middle;\n",
              "    }\n",
              "\n",
              "    .dataframe tbody tr th {\n",
              "        vertical-align: top;\n",
              "    }\n",
              "\n",
              "    .dataframe thead th {\n",
              "        text-align: right;\n",
              "    }\n",
              "</style>\n",
              "<table border=\"1\" class=\"dataframe\">\n",
              "  <thead>\n",
              "    <tr style=\"text-align: right;\">\n",
              "      <th></th>\n",
              "      <th>user_id</th>\n",
              "      <th>country</th>\n",
              "    </tr>\n",
              "  </thead>\n",
              "  <tbody>\n",
              "    <tr>\n",
              "      <th>0</th>\n",
              "      <td>834778</td>\n",
              "      <td>UK</td>\n",
              "    </tr>\n",
              "    <tr>\n",
              "      <th>1</th>\n",
              "      <td>928468</td>\n",
              "      <td>US</td>\n",
              "    </tr>\n",
              "    <tr>\n",
              "      <th>2</th>\n",
              "      <td>822059</td>\n",
              "      <td>UK</td>\n",
              "    </tr>\n",
              "    <tr>\n",
              "      <th>3</th>\n",
              "      <td>711597</td>\n",
              "      <td>UK</td>\n",
              "    </tr>\n",
              "    <tr>\n",
              "      <th>4</th>\n",
              "      <td>710616</td>\n",
              "      <td>UK</td>\n",
              "    </tr>\n",
              "  </tbody>\n",
              "</table>\n",
              "</div>"
            ],
            "text/plain": [
              "   user_id country\n",
              "0   834778      UK\n",
              "1   928468      US\n",
              "2   822059      UK\n",
              "3   711597      UK\n",
              "4   710616      UK"
            ]
          },
          "metadata": {},
          "execution_count": 70
        }
      ],
      "source": [
        "# Read the countries.csv\n",
        "countries_df = pd.read_csv('countries.csv')\n",
        "countries_df.head()"
      ]
    },
    {
      "cell_type": "code",
      "execution_count": 71,
      "metadata": {
        "colab": {
          "base_uri": "https://localhost:8080/"
        },
        "id": "uy66Gr7KuwtV",
        "outputId": "39cfbb69-b861-4ff3-c6ad-83802ab48c92"
      },
      "outputs": [
        {
          "output_type": "execute_result",
          "data": {
            "text/plain": [
              "US    203619\n",
              "UK     72466\n",
              "CA     14499\n",
              "Name: country, dtype: int64"
            ]
          },
          "metadata": {},
          "execution_count": 71
        }
      ],
      "source": [
        "countries_df['country'].value_counts()"
      ]
    },
    {
      "cell_type": "code",
      "execution_count": 83,
      "metadata": {
        "colab": {
          "base_uri": "https://localhost:8080/",
          "height": 238
        },
        "id": "eSUcezcKuwtV",
        "outputId": "10793ea3-8aac-4e86-8e19-55ac80038c11"
      },
      "outputs": [
        {
          "output_type": "execute_result",
          "data": {
            "text/html": [
              "<div>\n",
              "<style scoped>\n",
              "    .dataframe tbody tr th:only-of-type {\n",
              "        vertical-align: middle;\n",
              "    }\n",
              "\n",
              "    .dataframe tbody tr th {\n",
              "        vertical-align: top;\n",
              "    }\n",
              "\n",
              "    .dataframe thead th {\n",
              "        text-align: right;\n",
              "    }\n",
              "</style>\n",
              "<table border=\"1\" class=\"dataframe\">\n",
              "  <thead>\n",
              "    <tr style=\"text-align: right;\">\n",
              "      <th></th>\n",
              "      <th>country</th>\n",
              "      <th>timestamp</th>\n",
              "      <th>group</th>\n",
              "      <th>landing_page</th>\n",
              "      <th>converted</th>\n",
              "      <th>intercept</th>\n",
              "      <th>ab_page</th>\n",
              "    </tr>\n",
              "    <tr>\n",
              "      <th>user_id</th>\n",
              "      <th></th>\n",
              "      <th></th>\n",
              "      <th></th>\n",
              "      <th></th>\n",
              "      <th></th>\n",
              "      <th></th>\n",
              "      <th></th>\n",
              "    </tr>\n",
              "  </thead>\n",
              "  <tbody>\n",
              "    <tr>\n",
              "      <th>630000</th>\n",
              "      <td>US</td>\n",
              "      <td>2017-01-19 06:26:06.548941</td>\n",
              "      <td>treatment</td>\n",
              "      <td>new_page</td>\n",
              "      <td>0</td>\n",
              "      <td>1</td>\n",
              "      <td>1</td>\n",
              "    </tr>\n",
              "    <tr>\n",
              "      <th>630001</th>\n",
              "      <td>US</td>\n",
              "      <td>2017-01-16 03:16:42.560309</td>\n",
              "      <td>treatment</td>\n",
              "      <td>new_page</td>\n",
              "      <td>1</td>\n",
              "      <td>1</td>\n",
              "      <td>1</td>\n",
              "    </tr>\n",
              "    <tr>\n",
              "      <th>630002</th>\n",
              "      <td>US</td>\n",
              "      <td>2017-01-19 19:20:56.438330</td>\n",
              "      <td>control</td>\n",
              "      <td>old_page</td>\n",
              "      <td>0</td>\n",
              "      <td>1</td>\n",
              "      <td>0</td>\n",
              "    </tr>\n",
              "    <tr>\n",
              "      <th>630003</th>\n",
              "      <td>US</td>\n",
              "      <td>2017-01-12 10:09:31.510471</td>\n",
              "      <td>treatment</td>\n",
              "      <td>new_page</td>\n",
              "      <td>0</td>\n",
              "      <td>1</td>\n",
              "      <td>1</td>\n",
              "    </tr>\n",
              "    <tr>\n",
              "      <th>630004</th>\n",
              "      <td>US</td>\n",
              "      <td>2017-01-18 20:23:58.824994</td>\n",
              "      <td>treatment</td>\n",
              "      <td>new_page</td>\n",
              "      <td>0</td>\n",
              "      <td>1</td>\n",
              "      <td>1</td>\n",
              "    </tr>\n",
              "  </tbody>\n",
              "</table>\n",
              "</div>"
            ],
            "text/plain": [
              "        country                   timestamp  ... intercept ab_page\n",
              "user_id                                      ...                  \n",
              "630000       US  2017-01-19 06:26:06.548941  ...         1       1\n",
              "630001       US  2017-01-16 03:16:42.560309  ...         1       1\n",
              "630002       US  2017-01-19 19:20:56.438330  ...         1       0\n",
              "630003       US  2017-01-12 10:09:31.510471  ...         1       1\n",
              "630004       US  2017-01-18 20:23:58.824994  ...         1       1\n",
              "\n",
              "[5 rows x 7 columns]"
            ]
          },
          "metadata": {},
          "execution_count": 83
        }
      ],
      "source": [
        "df_new = countries_df.set_index('user_id').join(df2.set_index('user_id'), how='inner')\n",
        "df_new.head()"
      ]
    },
    {
      "cell_type": "code",
      "execution_count": 84,
      "metadata": {
        "colab": {
          "base_uri": "https://localhost:8080/",
          "height": 206
        },
        "id": "Duouo5uXuwtW",
        "outputId": "cf566184-b61e-44e9-fc62-b0cb622dce2c"
      },
      "outputs": [
        {
          "output_type": "execute_result",
          "data": {
            "text/html": [
              "<div>\n",
              "<style scoped>\n",
              "    .dataframe tbody tr th:only-of-type {\n",
              "        vertical-align: middle;\n",
              "    }\n",
              "\n",
              "    .dataframe tbody tr th {\n",
              "        vertical-align: top;\n",
              "    }\n",
              "\n",
              "    .dataframe thead th {\n",
              "        text-align: right;\n",
              "    }\n",
              "</style>\n",
              "<table border=\"1\" class=\"dataframe\">\n",
              "  <thead>\n",
              "    <tr style=\"text-align: right;\">\n",
              "      <th></th>\n",
              "      <th>CA</th>\n",
              "      <th>UK</th>\n",
              "      <th>US</th>\n",
              "      <th>user_id</th>\n",
              "      <th>country</th>\n",
              "    </tr>\n",
              "  </thead>\n",
              "  <tbody>\n",
              "    <tr>\n",
              "      <th>0</th>\n",
              "      <td>0</td>\n",
              "      <td>1</td>\n",
              "      <td>0</td>\n",
              "      <td>834778</td>\n",
              "      <td>UK</td>\n",
              "    </tr>\n",
              "    <tr>\n",
              "      <th>1</th>\n",
              "      <td>0</td>\n",
              "      <td>0</td>\n",
              "      <td>1</td>\n",
              "      <td>928468</td>\n",
              "      <td>US</td>\n",
              "    </tr>\n",
              "    <tr>\n",
              "      <th>2</th>\n",
              "      <td>0</td>\n",
              "      <td>1</td>\n",
              "      <td>0</td>\n",
              "      <td>822059</td>\n",
              "      <td>UK</td>\n",
              "    </tr>\n",
              "    <tr>\n",
              "      <th>3</th>\n",
              "      <td>0</td>\n",
              "      <td>1</td>\n",
              "      <td>0</td>\n",
              "      <td>711597</td>\n",
              "      <td>UK</td>\n",
              "    </tr>\n",
              "    <tr>\n",
              "      <th>4</th>\n",
              "      <td>0</td>\n",
              "      <td>1</td>\n",
              "      <td>0</td>\n",
              "      <td>710616</td>\n",
              "      <td>UK</td>\n",
              "    </tr>\n",
              "  </tbody>\n",
              "</table>\n",
              "</div>"
            ],
            "text/plain": [
              "   CA  UK  US  user_id country\n",
              "0   0   1   0   834778      UK\n",
              "1   0   0   1   928468      US\n",
              "2   0   1   0   822059      UK\n",
              "3   0   1   0   711597      UK\n",
              "4   0   1   0   710616      UK"
            ]
          },
          "metadata": {},
          "execution_count": 84
        }
      ],
      "source": [
        "# Create the necessary dummy variables\n",
        "dum_countries = pd.get_dummies(countries_df['country'])\n",
        "df4 = dum_countries.join(countries_df, how='inner')\n",
        "df4.head()"
      ]
    },
    {
      "cell_type": "code",
      "source": [
        "df_new[['CA', 'US', 'UK']] = pd.get_dummies(df_new['country'])"
      ],
      "metadata": {
        "id": "XDr2O45SLSEm"
      },
      "execution_count": 85,
      "outputs": []
    },
    {
      "cell_type": "code",
      "source": [
        "df_new.head()"
      ],
      "metadata": {
        "colab": {
          "base_uri": "https://localhost:8080/",
          "height": 238
        },
        "id": "gztxJHJo8q8Z",
        "outputId": "979c0e05-775b-4fff-a57b-9a6a00e440a4"
      },
      "execution_count": 93,
      "outputs": [
        {
          "output_type": "execute_result",
          "data": {
            "text/html": [
              "<div>\n",
              "<style scoped>\n",
              "    .dataframe tbody tr th:only-of-type {\n",
              "        vertical-align: middle;\n",
              "    }\n",
              "\n",
              "    .dataframe tbody tr th {\n",
              "        vertical-align: top;\n",
              "    }\n",
              "\n",
              "    .dataframe thead th {\n",
              "        text-align: right;\n",
              "    }\n",
              "</style>\n",
              "<table border=\"1\" class=\"dataframe\">\n",
              "  <thead>\n",
              "    <tr style=\"text-align: right;\">\n",
              "      <th></th>\n",
              "      <th>country</th>\n",
              "      <th>timestamp</th>\n",
              "      <th>group</th>\n",
              "      <th>landing_page</th>\n",
              "      <th>converted</th>\n",
              "      <th>intercept</th>\n",
              "      <th>ab_page</th>\n",
              "      <th>CA</th>\n",
              "      <th>US</th>\n",
              "      <th>UK</th>\n",
              "    </tr>\n",
              "    <tr>\n",
              "      <th>user_id</th>\n",
              "      <th></th>\n",
              "      <th></th>\n",
              "      <th></th>\n",
              "      <th></th>\n",
              "      <th></th>\n",
              "      <th></th>\n",
              "      <th></th>\n",
              "      <th></th>\n",
              "      <th></th>\n",
              "      <th></th>\n",
              "    </tr>\n",
              "  </thead>\n",
              "  <tbody>\n",
              "    <tr>\n",
              "      <th>630000</th>\n",
              "      <td>US</td>\n",
              "      <td>2017-01-19 06:26:06.548941</td>\n",
              "      <td>treatment</td>\n",
              "      <td>new_page</td>\n",
              "      <td>0</td>\n",
              "      <td>1</td>\n",
              "      <td>1</td>\n",
              "      <td>0</td>\n",
              "      <td>0</td>\n",
              "      <td>1</td>\n",
              "    </tr>\n",
              "    <tr>\n",
              "      <th>630001</th>\n",
              "      <td>US</td>\n",
              "      <td>2017-01-16 03:16:42.560309</td>\n",
              "      <td>treatment</td>\n",
              "      <td>new_page</td>\n",
              "      <td>1</td>\n",
              "      <td>1</td>\n",
              "      <td>1</td>\n",
              "      <td>0</td>\n",
              "      <td>0</td>\n",
              "      <td>1</td>\n",
              "    </tr>\n",
              "    <tr>\n",
              "      <th>630002</th>\n",
              "      <td>US</td>\n",
              "      <td>2017-01-19 19:20:56.438330</td>\n",
              "      <td>control</td>\n",
              "      <td>old_page</td>\n",
              "      <td>0</td>\n",
              "      <td>1</td>\n",
              "      <td>0</td>\n",
              "      <td>0</td>\n",
              "      <td>0</td>\n",
              "      <td>1</td>\n",
              "    </tr>\n",
              "    <tr>\n",
              "      <th>630003</th>\n",
              "      <td>US</td>\n",
              "      <td>2017-01-12 10:09:31.510471</td>\n",
              "      <td>treatment</td>\n",
              "      <td>new_page</td>\n",
              "      <td>0</td>\n",
              "      <td>1</td>\n",
              "      <td>1</td>\n",
              "      <td>0</td>\n",
              "      <td>0</td>\n",
              "      <td>1</td>\n",
              "    </tr>\n",
              "    <tr>\n",
              "      <th>630004</th>\n",
              "      <td>US</td>\n",
              "      <td>2017-01-18 20:23:58.824994</td>\n",
              "      <td>treatment</td>\n",
              "      <td>new_page</td>\n",
              "      <td>0</td>\n",
              "      <td>1</td>\n",
              "      <td>1</td>\n",
              "      <td>0</td>\n",
              "      <td>0</td>\n",
              "      <td>1</td>\n",
              "    </tr>\n",
              "  </tbody>\n",
              "</table>\n",
              "</div>"
            ],
            "text/plain": [
              "        country                   timestamp      group  ... CA  US  UK\n",
              "user_id                                                 ...           \n",
              "630000       US  2017-01-19 06:26:06.548941  treatment  ...  0   0   1\n",
              "630001       US  2017-01-16 03:16:42.560309  treatment  ...  0   0   1\n",
              "630002       US  2017-01-19 19:20:56.438330    control  ...  0   0   1\n",
              "630003       US  2017-01-12 10:09:31.510471  treatment  ...  0   0   1\n",
              "630004       US  2017-01-18 20:23:58.824994  treatment  ...  0   0   1\n",
              "\n",
              "[5 rows x 10 columns]"
            ]
          },
          "metadata": {},
          "execution_count": 93
        }
      ]
    },
    {
      "cell_type": "code",
      "source": [
        "df_new['UK_ab_page'] = df_new['UK'] * df_new['ab_page']"
      ],
      "metadata": {
        "id": "JNHyEkpP9oZM"
      },
      "execution_count": 94,
      "outputs": []
    },
    {
      "cell_type": "code",
      "source": [
        "df_new['US_ab_page'] = df_new['US'] * df_new['ab_page']"
      ],
      "metadata": {
        "id": "B4wlLg9e9oMX"
      },
      "execution_count": 95,
      "outputs": []
    },
    {
      "cell_type": "code",
      "source": [
        "df_new.head()"
      ],
      "metadata": {
        "colab": {
          "base_uri": "https://localhost:8080/",
          "height": 238
        },
        "id": "QyPctZy990cP",
        "outputId": "dff214f7-05cb-4a3b-f61d-67b1d62c2134"
      },
      "execution_count": 96,
      "outputs": [
        {
          "output_type": "execute_result",
          "data": {
            "text/html": [
              "<div>\n",
              "<style scoped>\n",
              "    .dataframe tbody tr th:only-of-type {\n",
              "        vertical-align: middle;\n",
              "    }\n",
              "\n",
              "    .dataframe tbody tr th {\n",
              "        vertical-align: top;\n",
              "    }\n",
              "\n",
              "    .dataframe thead th {\n",
              "        text-align: right;\n",
              "    }\n",
              "</style>\n",
              "<table border=\"1\" class=\"dataframe\">\n",
              "  <thead>\n",
              "    <tr style=\"text-align: right;\">\n",
              "      <th></th>\n",
              "      <th>country</th>\n",
              "      <th>timestamp</th>\n",
              "      <th>group</th>\n",
              "      <th>landing_page</th>\n",
              "      <th>converted</th>\n",
              "      <th>intercept</th>\n",
              "      <th>ab_page</th>\n",
              "      <th>CA</th>\n",
              "      <th>US</th>\n",
              "      <th>UK</th>\n",
              "      <th>UK_ab_page</th>\n",
              "      <th>US_ab_page</th>\n",
              "    </tr>\n",
              "    <tr>\n",
              "      <th>user_id</th>\n",
              "      <th></th>\n",
              "      <th></th>\n",
              "      <th></th>\n",
              "      <th></th>\n",
              "      <th></th>\n",
              "      <th></th>\n",
              "      <th></th>\n",
              "      <th></th>\n",
              "      <th></th>\n",
              "      <th></th>\n",
              "      <th></th>\n",
              "      <th></th>\n",
              "    </tr>\n",
              "  </thead>\n",
              "  <tbody>\n",
              "    <tr>\n",
              "      <th>630000</th>\n",
              "      <td>US</td>\n",
              "      <td>2017-01-19 06:26:06.548941</td>\n",
              "      <td>treatment</td>\n",
              "      <td>new_page</td>\n",
              "      <td>0</td>\n",
              "      <td>1</td>\n",
              "      <td>1</td>\n",
              "      <td>0</td>\n",
              "      <td>0</td>\n",
              "      <td>1</td>\n",
              "      <td>1</td>\n",
              "      <td>0</td>\n",
              "    </tr>\n",
              "    <tr>\n",
              "      <th>630001</th>\n",
              "      <td>US</td>\n",
              "      <td>2017-01-16 03:16:42.560309</td>\n",
              "      <td>treatment</td>\n",
              "      <td>new_page</td>\n",
              "      <td>1</td>\n",
              "      <td>1</td>\n",
              "      <td>1</td>\n",
              "      <td>0</td>\n",
              "      <td>0</td>\n",
              "      <td>1</td>\n",
              "      <td>1</td>\n",
              "      <td>0</td>\n",
              "    </tr>\n",
              "    <tr>\n",
              "      <th>630002</th>\n",
              "      <td>US</td>\n",
              "      <td>2017-01-19 19:20:56.438330</td>\n",
              "      <td>control</td>\n",
              "      <td>old_page</td>\n",
              "      <td>0</td>\n",
              "      <td>1</td>\n",
              "      <td>0</td>\n",
              "      <td>0</td>\n",
              "      <td>0</td>\n",
              "      <td>1</td>\n",
              "      <td>0</td>\n",
              "      <td>0</td>\n",
              "    </tr>\n",
              "    <tr>\n",
              "      <th>630003</th>\n",
              "      <td>US</td>\n",
              "      <td>2017-01-12 10:09:31.510471</td>\n",
              "      <td>treatment</td>\n",
              "      <td>new_page</td>\n",
              "      <td>0</td>\n",
              "      <td>1</td>\n",
              "      <td>1</td>\n",
              "      <td>0</td>\n",
              "      <td>0</td>\n",
              "      <td>1</td>\n",
              "      <td>1</td>\n",
              "      <td>0</td>\n",
              "    </tr>\n",
              "    <tr>\n",
              "      <th>630004</th>\n",
              "      <td>US</td>\n",
              "      <td>2017-01-18 20:23:58.824994</td>\n",
              "      <td>treatment</td>\n",
              "      <td>new_page</td>\n",
              "      <td>0</td>\n",
              "      <td>1</td>\n",
              "      <td>1</td>\n",
              "      <td>0</td>\n",
              "      <td>0</td>\n",
              "      <td>1</td>\n",
              "      <td>1</td>\n",
              "      <td>0</td>\n",
              "    </tr>\n",
              "  </tbody>\n",
              "</table>\n",
              "</div>"
            ],
            "text/plain": [
              "        country                   timestamp  ... UK_ab_page US_ab_page\n",
              "user_id                                      ...                      \n",
              "630000       US  2017-01-19 06:26:06.548941  ...          1          0\n",
              "630001       US  2017-01-16 03:16:42.560309  ...          1          0\n",
              "630002       US  2017-01-19 19:20:56.438330  ...          0          0\n",
              "630003       US  2017-01-12 10:09:31.510471  ...          1          0\n",
              "630004       US  2017-01-18 20:23:58.824994  ...          1          0\n",
              "\n",
              "[5 rows x 12 columns]"
            ]
          },
          "metadata": {},
          "execution_count": 96
        }
      ]
    },
    {
      "cell_type": "markdown",
      "metadata": {
        "id": "M8kdaQW1uwtW"
      },
      "source": [
        "**h. Fit your model and obtain the results**<br> \n",
        "Though you have now looked at the individual factors of country and page on conversion, we would now like to look at an interaction between page and country to see if are there significant effects on conversion.  **Create the necessary additional columns, and fit the new model.** \n",
        "\n",
        "\n",
        "Provide the summary results (statistical output), and your conclusions (written response) based on the results. \n",
        "\n",
        ">**Tip**: Conclusions should include both statistical reasoning, and practical reasoning for the situation. \n",
        "\n",
        ">**Hints**: \n",
        "- Look at all of p-values in the summary, and compare against the Type I error rate (0.05). \n",
        "- Can you reject/fail to reject the null hypotheses (regression model)?\n",
        "- Comment on the effect of page and country to predict the conversion.\n"
      ]
    },
    {
      "cell_type": "code",
      "execution_count": 99,
      "metadata": {
        "colab": {
          "base_uri": "https://localhost:8080/"
        },
        "id": "UneJBB2IuwtW",
        "outputId": "c0f83bfa-5fd7-4ff9-a65a-a6c0d355626e"
      },
      "outputs": [
        {
          "output_type": "stream",
          "name": "stdout",
          "text": [
            "Optimization terminated successfully.\n",
            "         Current function value: 0.366108\n",
            "         Iterations 6\n"
          ]
        }
      ],
      "source": [
        "df_new['intercept'] = 1\n",
        "logit_mod = sm.Logit(df_new['converted'], df_new[['intercept', 'ab_page', 'UK', 'CA','UK_ab_page' ,'US_ab_page']])\n",
        "results = logit_mod.fit()"
      ]
    },
    {
      "cell_type": "code",
      "source": [
        "results.summary()"
      ],
      "metadata": {
        "colab": {
          "base_uri": "https://localhost:8080/",
          "height": 331
        },
        "id": "ut235_-G9HM3",
        "outputId": "0324ad4e-2815-458a-82f4-ad69c4cb7569"
      },
      "execution_count": 100,
      "outputs": [
        {
          "output_type": "execute_result",
          "data": {
            "text/html": [
              "<table class=\"simpletable\">\n",
              "<caption>Logit Regression Results</caption>\n",
              "<tr>\n",
              "  <th>Dep. Variable:</th>       <td>converted</td>    <th>  No. Observations:  </th>   <td>290585</td>   \n",
              "</tr>\n",
              "<tr>\n",
              "  <th>Model:</th>                 <td>Logit</td>      <th>  Df Residuals:      </th>   <td>290579</td>   \n",
              "</tr>\n",
              "<tr>\n",
              "  <th>Method:</th>                 <td>MLE</td>       <th>  Df Model:          </th>   <td>     5</td>   \n",
              "</tr>\n",
              "<tr>\n",
              "  <th>Date:</th>            <td>Tue, 14 Dec 2021</td> <th>  Pseudo R-squ.:     </th>  <td>3.483e-05</td> \n",
              "</tr>\n",
              "<tr>\n",
              "  <th>Time:</th>                <td>17:24:04</td>     <th>  Log-Likelihood:    </th> <td>-1.0639e+05</td>\n",
              "</tr>\n",
              "<tr>\n",
              "  <th>converged:</th>             <td>True</td>       <th>  LL-Null:           </th> <td>-1.0639e+05</td>\n",
              "</tr>\n",
              "<tr>\n",
              "  <th>Covariance Type:</th>     <td>nonrobust</td>    <th>  LLR p-value:       </th>   <td>0.1918</td>   \n",
              "</tr>\n",
              "</table>\n",
              "<table class=\"simpletable\">\n",
              "<tr>\n",
              "       <td></td>         <th>coef</th>     <th>std err</th>      <th>z</th>      <th>P>|z|</th>  <th>[0.025</th>    <th>0.975]</th>  \n",
              "</tr>\n",
              "<tr>\n",
              "  <th>intercept</th>  <td>   -1.9922</td> <td>    0.016</td> <td> -123.457</td> <td> 0.000</td> <td>   -2.024</td> <td>   -1.961</td>\n",
              "</tr>\n",
              "<tr>\n",
              "  <th>ab_page</th>    <td>   -0.0674</td> <td>    0.052</td> <td>   -1.297</td> <td> 0.195</td> <td>   -0.169</td> <td>    0.034</td>\n",
              "</tr>\n",
              "<tr>\n",
              "  <th>UK</th>         <td>    0.0057</td> <td>    0.019</td> <td>    0.306</td> <td> 0.760</td> <td>   -0.031</td> <td>    0.043</td>\n",
              "</tr>\n",
              "<tr>\n",
              "  <th>CA</th>         <td>   -0.0118</td> <td>    0.040</td> <td>   -0.296</td> <td> 0.767</td> <td>   -0.090</td> <td>    0.066</td>\n",
              "</tr>\n",
              "<tr>\n",
              "  <th>UK_ab_page</th> <td>    0.0469</td> <td>    0.054</td> <td>    0.872</td> <td> 0.383</td> <td>   -0.059</td> <td>    0.152</td>\n",
              "</tr>\n",
              "<tr>\n",
              "  <th>US_ab_page</th> <td>    0.0783</td> <td>    0.057</td> <td>    1.378</td> <td> 0.168</td> <td>   -0.033</td> <td>    0.190</td>\n",
              "</tr>\n",
              "</table>"
            ],
            "text/plain": [
              "<class 'statsmodels.iolib.summary.Summary'>\n",
              "\"\"\"\n",
              "                           Logit Regression Results                           \n",
              "==============================================================================\n",
              "Dep. Variable:              converted   No. Observations:               290585\n",
              "Model:                          Logit   Df Residuals:                   290579\n",
              "Method:                           MLE   Df Model:                            5\n",
              "Date:                Tue, 14 Dec 2021   Pseudo R-squ.:               3.483e-05\n",
              "Time:                        17:24:04   Log-Likelihood:            -1.0639e+05\n",
              "converged:                       True   LL-Null:                   -1.0639e+05\n",
              "Covariance Type:            nonrobust   LLR p-value:                    0.1918\n",
              "==============================================================================\n",
              "                 coef    std err          z      P>|z|      [0.025      0.975]\n",
              "------------------------------------------------------------------------------\n",
              "intercept     -1.9922      0.016   -123.457      0.000      -2.024      -1.961\n",
              "ab_page       -0.0674      0.052     -1.297      0.195      -0.169       0.034\n",
              "UK             0.0057      0.019      0.306      0.760      -0.031       0.043\n",
              "CA            -0.0118      0.040     -0.296      0.767      -0.090       0.066\n",
              "UK_ab_page     0.0469      0.054      0.872      0.383      -0.059       0.152\n",
              "US_ab_page     0.0783      0.057      1.378      0.168      -0.033       0.190\n",
              "==============================================================================\n",
              "\"\"\""
            ]
          },
          "metadata": {},
          "execution_count": 100
        }
      ]
    },
    {
      "cell_type": "code",
      "source": [
        "np.exp(results.params)"
      ],
      "metadata": {
        "colab": {
          "base_uri": "https://localhost:8080/"
        },
        "id": "f0SSX3fuMBQX",
        "outputId": "313bcb8c-223c-4bec-f554-943624de413e"
      },
      "execution_count": 91,
      "outputs": [
        {
          "output_type": "execute_result",
          "data": {
            "text/plain": [
              "intercept    0.138154\n",
              "ab_page      0.985160\n",
              "UK           0.990160\n",
              "CA           0.950621\n",
              "dtype: float64"
            ]
          },
          "metadata": {},
          "execution_count": 91
        }
      ]
    },
    {
      "cell_type": "code",
      "source": [
        "1/np.exp(results.params)"
      ],
      "metadata": {
        "colab": {
          "base_uri": "https://localhost:8080/"
        },
        "id": "wSMmb1U9MA_4",
        "outputId": "c5a76221-2233-4bb8-dadf-a322ba5b27e7"
      },
      "execution_count": 92,
      "outputs": [
        {
          "output_type": "execute_result",
          "data": {
            "text/plain": [
              "intercept    7.238286\n",
              "ab_page      1.015064\n",
              "UK           1.009938\n",
              "CA           1.051944\n",
              "dtype: float64"
            ]
          },
          "metadata": {},
          "execution_count": 92
        }
      ]
    },
    {
      "cell_type": "markdown",
      "metadata": {
        "id": "UwpDhrjTuwtW"
      },
      "source": [
        ">This regression summary shows that the country of origin and the type of page based on their p-values do not provide a statistical basis to reject the null hypothesis, based on a Type I error rate of **5%** based on this i couldn't find sufficient evidence to support that there is a relationship between country of the individual and the page they landed to predict if they converted or not..<br> \n",
        "Even with all this statistical analysis, as noted earlier, the practical significance of all this analysis does not seem required given that a 15 percent difference in the conversion rates between the control and treatment group was noted from the dataset itself, which is so minute as to not have any practical effect on deciding to switch to the new page rather than stay with the old one, based on this i couldn't find sufficient evidence to support that the new page makes a higher conversion rate than the old page, and given that this test run for more than 21 days, I suggest to not launch the new page unless this new page provides a practical significance"
      ]
    },
    {
      "cell_type": "markdown",
      "metadata": {
        "id": "esQao3zluwtW"
      },
      "source": [
        "<a id='finalcheck'></a>\n",
        "## Final Check!\n",
        "\n",
        "Congratulations!  You have reached the end of the A/B Test Results project!  You should be very proud of all you have accomplished!\n",
        "\n",
        "> **Tip**: Once you are satisfied with your work here, check over your notebook to make sure that it satisfies all the specifications mentioned in the rubric. You should also probably remove all of the \"Hints\" and \"Tips\" like this one so that the presentation is as polished as possible.\n",
        "\n",
        "\n",
        "<a id='submission'></a>\n",
        "## Submission\n",
        "You may either submit your notebook through the \"SUBMIT PROJECT\" button at the bottom of this workspace, or you may work from your local machine and submit on  the last page of this project lesson.  \n",
        "\n",
        "1. Before you submit your project, you need to create a .html or .pdf version of this notebook in the workspace here. To do that, run the code cell below. If it worked correctly, you should get a return code of 0, and you should see the generated .html file in the workspace directory (click on the orange Jupyter icon in the upper left).\n",
        "\n",
        "\n",
        "2. Alternatively, you can download this report as .html via the **File** > **Download as** submenu, and then manually upload it into the workspace directory by clicking on the orange Jupyter icon in the upper left, then using the Upload button.\n",
        "\n",
        "\n",
        "3. Once you've done this, you can submit your project by clicking on the \"Submit Project\" button in the lower right here. This will create and submit a zip file with this .ipynb doc and the .html or .pdf version you created. Congratulations!"
      ]
    },
    {
      "cell_type": "code",
      "execution_count": null,
      "metadata": {
        "id": "TisVs786uwtW"
      },
      "outputs": [],
      "source": [
        "from subprocess import call\n",
        "call(['python', '-m', 'nbconvert', 'Analyze_ab_test_results_notebook.ipynb'])"
      ]
    }
  ],
  "metadata": {
    "kernelspec": {
      "display_name": "Python 3",
      "language": "python",
      "name": "python3"
    },
    "language_info": {
      "codemirror_mode": {
        "name": "ipython",
        "version": 3
      },
      "file_extension": ".py",
      "mimetype": "text/x-python",
      "name": "python",
      "nbconvert_exporter": "python",
      "pygments_lexer": "ipython3",
      "version": "3.6.3"
    },
    "colab": {
      "name": "Analyze_ab_test_results_notebook.ipynb",
      "provenance": [],
      "collapsed_sections": [
        "eC5mdSaSuws5",
        "cCsGm3qOuws7",
        "sEyiVxXEuwtC",
        "XIcVwKm0uwtN"
      ]
    },
    "accelerator": "GPU"
  },
  "nbformat": 4,
  "nbformat_minor": 0
}